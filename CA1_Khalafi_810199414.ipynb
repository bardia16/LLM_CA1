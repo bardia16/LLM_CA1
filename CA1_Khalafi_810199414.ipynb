{
  "cells": [
    {
      "cell_type": "markdown",
      "metadata": {
        "id": "BPOsZP3eGKmj"
      },
      "source": [
        "## CA 1, LLMs Spring 2024\n",
        "\n",
        "- **Name:Bardia Khalafi**\n",
        "- **Student ID:810199414**\n",
        "\n",
        "---\n",
        "### This is due on **April 2nd, 2024**, submitted via [elearn](https://elearn.ut.ac.ir/).\n",
        "#### Your submission should be named using the following format: `CA1_LASTNAME_STUDENTID.ipynb`.\n",
        "\n",
        "### **IMPORTANT**: After copying this notebook to your Google Drive, please paste a link to it below. To get a publicly-accessible link, hit the *Share* button at the top right, then click \"Get shareable link\" and copy over the result. If you fail to do this, you will receive no credit for this homework!\n",
        "# ***LINK: *https://colab.research.google.com/drive/1am4rviwJIxt90FUb8wul11f9LHSfkPXZ?usp=sharing****\n",
        "\n",
        "---\n",
        "\n",
        "##### *How to do this problem set:*\n",
        "\n",
        "- Some questions require writing Python code and computing results, and the rest of them have written answers. For coding problems, you will have to fill out all code blocks that say `YOUR CODE HERE`.\n",
        "\n",
        "- For text-based answers, you should replace the text that says \"Write your answer here...\" with your actual answer.\n",
        "\n",
        "- There is no penalty for using AI assistance on this homework as long as you fully disclose it in the final cell of this notebook (this includes storing any prompts that you feed to large language models). That said, anyone caught using AI assistance without proper disclosure will receive a zero on the assignment (we have several automatic tools to detect such cases). We're literally allowing you to use it with no limitations, so there is no reason to lie!\n",
        "\n",
        "---\n",
        "\n",
        "##### *Academic honesty*\n",
        "\n",
        "- We will audit the Colab notebooks from a set number of students, chosen at random. The audits will check that the code you wrote actually generates the answers in your notebook. If you turn in correct answers on your notebook without code that actually generates those answers, we will consider this a serious case of cheating.\n",
        "\n",
        "- We will also run automatic checks of Colab notebooks for plagiarism. Copying code from others is also considered a serious case of cheating.\n",
        "\n",
        "---\n",
        "\n",
        "If you have any further questions or concerns, contact the TA via email:\n",
        "namazifard@ut.ac.ir\n",
        "\n",
        "---"
      ]
    },
    {
      "cell_type": "markdown",
      "metadata": {
        "id": "sIGZBVK96ARd"
      },
      "source": [
        "# Part 1: Word Embeddings and Masked LMs (40 points)"
      ]
    },
    {
      "cell_type": "markdown",
      "metadata": {
        "id": "BgRQHomu9VDV"
      },
      "source": [
        "### Question 1.1 (5 points)"
      ]
    },
    {
      "cell_type": "markdown",
      "metadata": {
        "id": "b-o6W_La6E6V"
      },
      "source": [
        "In this part, we will start with `GloVe` [(Pennington et al.)](https://aclanthology.org/D14-1162.pdf) word embeddings. `GloVe` provides low-dimensional dense vectors representing words' semantics. The distance between `GloVe` embeddings captures the semantic relationships of words. We are using the `Gensim` library for  working with `GloVe` embeddings. Let's install `Gensim` and download the 6B token model. Also, we should unzip the model file. Running the cell below could take a few minutes."
      ]
    },
    {
      "cell_type": "code",
      "execution_count": 3,
      "metadata": {
        "id": "OeSDN3i858zo",
        "colab": {
          "base_uri": "https://localhost:8080/"
        },
        "outputId": "569f12b0-93c3-4b8d-9026-e0b22aa46af7"
      },
      "outputs": [
        {
          "output_type": "stream",
          "name": "stdout",
          "text": [
            "Requirement already satisfied: gensim in /usr/local/lib/python3.10/dist-packages (4.3.2)\n",
            "Requirement already satisfied: numpy>=1.18.5 in /usr/local/lib/python3.10/dist-packages (from gensim) (1.25.2)\n",
            "Requirement already satisfied: scipy>=1.7.0 in /usr/local/lib/python3.10/dist-packages (from gensim) (1.11.4)\n",
            "Requirement already satisfied: smart-open>=1.8.1 in /usr/local/lib/python3.10/dist-packages (from gensim) (6.4.0)\n",
            "--2024-03-19 10:25:21--  https://nlp.stanford.edu/data/glove.6B.zip\n",
            "Resolving nlp.stanford.edu (nlp.stanford.edu)... 171.64.67.140\n",
            "Connecting to nlp.stanford.edu (nlp.stanford.edu)|171.64.67.140|:443... connected.\n",
            "HTTP request sent, awaiting response... 301 Moved Permanently\n",
            "Location: https://downloads.cs.stanford.edu/nlp/data/glove.6B.zip [following]\n",
            "--2024-03-19 10:25:21--  https://downloads.cs.stanford.edu/nlp/data/glove.6B.zip\n",
            "Resolving downloads.cs.stanford.edu (downloads.cs.stanford.edu)... 171.64.64.22\n",
            "Connecting to downloads.cs.stanford.edu (downloads.cs.stanford.edu)|171.64.64.22|:443... connected.\n",
            "HTTP request sent, awaiting response... 200 OK\n",
            "Length: 862182613 (822M) [application/zip]\n",
            "Saving to: ‘glove.6B.zip’\n",
            "\n",
            "glove.6B.zip        100%[===================>] 822.24M  5.04MB/s    in 2m 42s  \n",
            "\n",
            "2024-03-19 10:28:04 (5.07 MB/s) - ‘glove.6B.zip’ saved [862182613/862182613]\n",
            "\n",
            "Archive:  /content/glove.6B.zip\n",
            "  inflating: glove.6B.50d.txt        \n",
            "  inflating: glove.6B.100d.txt       \n",
            "  inflating: glove.6B.200d.txt       \n",
            "  inflating: glove.6B.300d.txt       \n"
          ]
        }
      ],
      "source": [
        "!pip install gensim\n",
        "!wget https://nlp.stanford.edu/data/glove.6B.zip\n",
        "!unzip \"/content/glove.6B.zip\""
      ]
    },
    {
      "cell_type": "markdown",
      "metadata": {
        "id": "bKVZeILG6KUu"
      },
      "source": [
        "We are using the model file with 6 billion tokens containing 200-dimensional vectors. Running the cell below will create the word embedding model."
      ]
    },
    {
      "cell_type": "code",
      "execution_count": 4,
      "metadata": {
        "id": "TrumleB96NFq"
      },
      "outputs": [],
      "source": [
        "from gensim.scripts.glove2word2vec import glove2word2vec\n",
        "from gensim.models import KeyedVectors\n",
        "\n",
        "glove_input_file = 'glove.6B.200d.txt'\n",
        "model = KeyedVectors.load_word2vec_format(glove_input_file, binary=False, no_header=True)"
      ]
    },
    {
      "cell_type": "markdown",
      "metadata": {
        "id": "XdbyaunH6HLu"
      },
      "source": [
        "Try to write the 5 most similar words to **computer**, **football**, **ocean**, **music**, and **artificial** along with their similarity scores."
      ]
    },
    {
      "cell_type": "code",
      "execution_count": 5,
      "metadata": {
        "id": "7q5ZZCk36Qqt",
        "colab": {
          "base_uri": "https://localhost:8080/"
        },
        "outputId": "5080f71a-30d0-497c-cfbb-d638a60818c7"
      },
      "outputs": [
        {
          "output_type": "stream",
          "name": "stdout",
          "text": [
            "[('computers', 0.8357723951339722), ('software', 0.7828460335731506), ('technology', 0.6907660961151123)]\n",
            "[('soccer', 0.8105178475379944), ('basketball', 0.7896140813827515), ('league', 0.716710090637207)]\n",
            "[('sea', 0.7277445197105408), ('waters', 0.724154531955719), ('coast', 0.6972916126251221)]\n",
            "[('musical', 0.7338810563087463), ('songs', 0.7253574728965759), ('pop', 0.6906009912490845)]\n",
            "[('natural', 0.5050912499427795), ('insemination', 0.4972018897533417), ('man-made', 0.4853343069553375)]\n"
          ]
        }
      ],
      "source": [
        "def get_similar_words(word, topn):\n",
        "    similar_words = model.most_similar(word, topn=topn)\n",
        "    return similar_words\n",
        "word_list = ['computer', 'football', 'ocean', 'music', 'artificial']\n",
        "\n",
        "for word in word_list:\n",
        "    print(get_similar_words(word, 3))\n"
      ]
    },
    {
      "cell_type": "markdown",
      "metadata": {
        "id": "bYKLguwx6df1"
      },
      "source": [
        "**Analogy** in word embeddings refers to performing algebraic operations on vectors to capture the most similar words to the resulting embedding. One of the most famous examples is the analogy *king - man + woman = queen*. In `Gensim`, we can apply analogies using the `most_similar` function. The `positive` argument receives a list of words and applies addition between their embeddings, while the `negative` argument receives a list of words to subtract their embeddings from the result. In our example, *king* and *woman* are in the positive list, while *man* is in the negative list.\n",
        "\n",
        "Let's explore more analogies and the power of `GloVe` embeddings. Write down five other analogies."
      ]
    },
    {
      "cell_type": "code",
      "execution_count": 6,
      "metadata": {
        "id": "2AuwX7p96hnQ",
        "colab": {
          "base_uri": "https://localhost:8080/"
        },
        "outputId": "42999e88-5820-4b53-e9bb-e3a2076052e6"
      },
      "outputs": [
        {
          "output_type": "stream",
          "name": "stdout",
          "text": [
            "[('rome', 0.7585406303405762)]\n",
            "[('driver', 0.5611459612846375)]\n",
            "[('songs', 0.5580971837043762)]\n",
            "[('nurse', 0.6813318729400635)]\n",
            "[('japanese', 0.9356759190559387)]\n"
          ]
        }
      ],
      "source": [
        "def get_similar_words_analogy(positive_list, negative_list, topn):\n",
        "\n",
        "    result = model.most_similar(\n",
        "        positive=positive_list,\n",
        "        negative=negative_list,\n",
        "        topn=topn\n",
        "        )\n",
        "    return result\n",
        "\n",
        "positive_lists = [\n",
        "    ['paris', 'italy'],\n",
        "    ['banana', 'car'],\n",
        "    ['football', 'music'],\n",
        "    ['doctor', 'woman'],\n",
        "    ['german', 'japan']\n",
        "]\n",
        "\n",
        "negative_lists = [\n",
        "    ['france'],\n",
        "    ['fruit'],\n",
        "    ['sport'],\n",
        "    ['man'],\n",
        "    ['germany']\n",
        "]\n",
        "\n",
        "for index in range(5):\n",
        "    print(get_similar_words_analogy(\n",
        "        positive_list=positive_lists[index],\n",
        "        negative_list=negative_lists[index],\n",
        "        topn=1\n",
        "    ))"
      ]
    },
    {
      "cell_type": "markdown",
      "metadata": {
        "id": "SeuDs79G6ka1"
      },
      "source": [
        "### Question 1.2 (10 points)\n",
        "Let's visualize embeddings! We'll start with the following list of words. Extract the embedding for each word and reduce their dimensionality to 2 using the `t-SNE` [(Van der Maaten et al.)](https://www.jmlr.org/papers/volume9/vandermaaten08a/vandermaaten08a.pdf) algorithm. Then, plot them on a scatter plot with their labels."
      ]
    },
    {
      "cell_type": "markdown",
      "source": [
        "#### Using T-SNE"
      ],
      "metadata": {
        "id": "0Z_5nesulX65"
      }
    },
    {
      "cell_type": "code",
      "execution_count": 7,
      "metadata": {
        "id": "6Lyv-iKm6niZ",
        "colab": {
          "base_uri": "https://localhost:8080/",
          "height": 718
        },
        "outputId": "23a4939c-be74-40c8-b31f-4a440faade6a"
      },
      "outputs": [
        {
          "output_type": "display_data",
          "data": {
            "text/plain": [
              "<Figure size 1000x800 with 1 Axes>"
            ],
            "image/png": "[encoded data removed]"
          },
          "metadata": {}
        }
      ],
      "source": [
        "words = [\n",
        "    \"dolphin\", \"shark\", \"octopus\", \"jellyfish\", \"seahorse\",\n",
        "    \"turtle\", \"clownfish\", \"lobster\", \"starfish\", \"whale\",\n",
        "    \"eagle\", \"sparrow\", \"owl\", \"hummingbird\", \"penguin\",\n",
        "    \"toucan\", \"flamingo\", \"hawk\", \"parrot\", \"swan\",\n",
        "    \"england\", \"brazil\", \"japan\", \"australia\", \"india\",\n",
        "    \"germany\", \"canada\", \"france\", \"mexico\", \"russia\",\n",
        "    \"chicago\", \"paris\", \"tokyo\", \"london\", \"sydney\",\n",
        "    \"istanbul\", \"tehran\", \"cairo\", \"dubai\", \"mumbai\",\n",
        "    \"symphony\", \"jazz\", \"rock\", \"blues\", \"reggae\",\n",
        "    \"hip-hop\", \"country\", \"pop\", \"classical\", \"r&b\"\n",
        "]\n",
        "\n",
        "\n",
        "import numpy as np\n",
        "from sklearn.manifold import TSNE\n",
        "import matplotlib.pyplot as plt\n",
        "\n",
        "def dimensionality_reduction(vectors):\n",
        "    tsne = TSNE(n_components=2, perplexity=5, random_state=42)\n",
        "    vectors_2d = tsne.fit_transform(vectors)\n",
        "\n",
        "    return vectors_2d\n",
        "\n",
        "def plot_with_labels(vectors_2d, title):\n",
        "    plt.figure(figsize=(10, 8))\n",
        "    plt.scatter(vectors_2d[:, 0], vectors_2d[:, 1], alpha=0.5)\n",
        "\n",
        "    # Add labels to each point\n",
        "    for i in range(len(words)):\n",
        "        plt.annotate(words[i], (vectors_2d[i, 0], vectors_2d[i, 1]))\n",
        "\n",
        "    plt.xlabel(f'{title} Dimension 1')\n",
        "    plt.ylabel(f'{title} Dimension 2')\n",
        "    plt.title(f'{title} Visualization of Word Embeddings')\n",
        "    plt.show()\n",
        "\n",
        "## Use 5 for perplexity of TSNE\n",
        "vectors = model[words]\n",
        "vectors_2d = dimensionality_reduction(vectors)\n",
        "plot_with_labels(vectors_2d, 't-SNE')\n",
        "\n",
        "\n",
        "\n"
      ]
    },
    {
      "cell_type": "markdown",
      "source": [
        "#### Using PCA"
      ],
      "metadata": {
        "id": "DtIKu5pBl6l2"
      }
    },
    {
      "cell_type": "code",
      "source": [
        "from sklearn.decomposition import PCA\n",
        "\n",
        "def pca_reduction(vectors):\n",
        "    pca = PCA(n_components=2, random_state=42)\n",
        "    vectors_2d = pca.fit_transform(vectors)\n",
        "    return vectors_2d\n",
        "\n",
        "vectors = model[words]\n",
        "vectors_2d = pca_reduction(vectors)\n",
        "plot_with_labels(vectors_2d, 'PCA')"
      ],
      "metadata": {
        "colab": {
          "base_uri": "https://localhost:8080/",
          "height": 718
        },
        "id": "AXaKoqjtlgze",
        "outputId": "e3eb2466-43e4-4bd6-f775-603f36a7a579"
      },
      "execution_count": 8,
      "outputs": [
        {
          "output_type": "display_data",
          "data": {
            "text/plain": [
              "<Figure size 1000x800 with 1 Axes>"
            ],
            "image/png": "[encoded data removed]"
          },
          "metadata": {}
        }
      ]
    },
    {
      "cell_type": "markdown",
      "metadata": {
        "id": "TKgU9Dmq7JDP"
      },
      "source": [
        "Analyze the plot and clusters of embeddings in a few sentences."
      ]
    },
    {
      "cell_type": "markdown",
      "metadata": {
        "id": "QyF5OBz9O-pK"
      },
      "source": [
        "Each cluster has a similar meaning to it, one cluster represents the **cities and countries** ( we can see the japan and tokyo near together too )\n",
        "another cluster contains **animals**\n",
        "and the last one represents **musics genres**\n",
        "\n",
        "and for the dimentionality reduction method, **t-SNE** creates more compact and separable clusters due to its **non-linearity** nature"
      ]
    },
    {
      "cell_type": "markdown",
      "metadata": {
        "id": "iJp6Kbyx7UNG"
      },
      "source": [
        "### Question 1.3 (15 points)\n",
        "Find the most similar words to **bat** and **charge** in GloVe."
      ]
    },
    {
      "cell_type": "code",
      "execution_count": 9,
      "metadata": {
        "id": "nXp1AQtl7hXy",
        "colab": {
          "base_uri": "https://localhost:8080/"
        },
        "outputId": "f90e16a8-f298-4c4e-a9b4-9f7cf44b78e3"
      },
      "outputs": [
        {
          "output_type": "stream",
          "name": "stdout",
          "text": [
            "[('bats', 0.691724419593811), ('batting', 0.6160588264465332), ('balls', 0.5692734122276306)]\n",
            "[('charges', 0.8177176117897034), ('charged', 0.8067139983177185), ('charging', 0.6606977581977844)]\n"
          ]
        }
      ],
      "source": [
        "print(get_similar_words('bat', 3))\n",
        "print(get_similar_words('charge', 3))"
      ]
    },
    {
      "cell_type": "markdown",
      "metadata": {
        "id": "JXQ5Y8b17m31"
      },
      "source": [
        "Now, consider these sentences:\n",
        "* *The **bat** flew swiftly through the air.*\n",
        "* *He grabbed his **bat** and headed to the baseball field.*\n",
        "\n",
        "Or these sentences:\n",
        "* *I need to **charge** my phone before leaving.*\n",
        "* *He was arrested for **charge** of theft.*\n",
        "\n",
        "As you can see, a static vector cannot capture the meaning of a word in every context, and some words have very different meanings in different sentences. In this part, we will work with a masked language model, which captures contextual embeddings. Let's import necessary modules and load the `BERT` [(Devlin et al.)](https://aclanthology.org/N19-1423.pdf) model."
      ]
    },
    {
      "cell_type": "code",
      "execution_count": 10,
      "metadata": {
        "id": "43wobVKF7n-1",
        "colab": {
          "base_uri": "https://localhost:8080/",
          "height": 301,
          "referenced_widgets": [
            "42cf8623bcf343bd9e0da7a40d52f180",
            "357b8e6e94584b00ace71b14b57067c1",
            "e5da9bb6018e4680b940cf73bffc7b74",
            "33b19ec34bef40678d8e0d75273ef4db",
            "90d30790c006405ea4b2af4398b751ba",
            "fb895e9a9ef54ff2a1d4353253c5b3ff",
            "a107dc2504734a5f81dd0f5029fda3d2",
            "51888811df704090aaefe631818bc748",
            "c33d4a3286304d04a0dfe1942949fa6c",
            "43bdb3aabee3421cad3363c5864762d1",
            "84140cf9cd604c74aa842fa1948d1b1b",
            "5a6abdd2706143c1b7e08a805be51335",
            "c7a1f100fcaf4d389d954ab64cd88092",
            "87db7c5a96b344e69b9985f6e94b3459",
            "6edabc87253449f5bdb3732da9cb7c4d",
            "94533d151c4745e2bd350b559eea6b6d",
            "9a5deeb578cb4ca5956f3ea29e9f48a9",
            "1ea0db59183549588aa275ce609e108d",
            "c94cabaa5007415c960c01ab6f190d56",
            "9d63258d7cda4826abed85117e8fbe10",
            "501afb1b59624a89a48f4e14b3600e95",
            "aad092abd8174f958070955112305edc",
            "09d5826cb1114406964352f839bc5e7c",
            "12f9b981aea6491c87e9a84be69fc097",
            "fd100e13614c44d78d976c4bcbc32a54",
            "eaea7748f09049c28a5f90032cf9fb7d",
            "ed76caf2711a40e08796b46652091349",
            "9c196efcba8e40bab0e8e0ba61f17217",
            "037aaa3363f242c3892e2afe4fe36835",
            "daddead9a3a3400ca5a15dcdb8cf2d2a",
            "ee9ab781de0843488ae49c09829081f7",
            "b8e91cd4435342398fb591c1a153d397",
            "8c2957fb96974a4faa378f85e50c17d4",
            "a2b6d6cde6f447149dc383dfe33a9e63",
            "53e43de31779472486b6eb58e4208d35",
            "cfad33fc22544a06a722cc21084c3e2d",
            "eda1f88106a54abcaf2214aea13df0f7",
            "9fbe32593362430e9534a0714c17e6ea",
            "4771ca741ba7494896cbf9cfec45724f",
            "2bb9ea9637794486b897b32117bc00f8",
            "949edff8487649f88f5691d45447a23b",
            "8898b59d7d9c4165b6a06fb8bc3a54cc",
            "e307a8a617114743a973cc4ab127d426",
            "31e7665905c645d68beaf95544bed689",
            "3c9e191514e645048bcba5f40b907dfe",
            "573f7d92a5444830a8ec19fa1ad45a67",
            "4a7736a639f34e9a9475a58ec00ce537",
            "0447aed80c2c4cef8cad8756c5184cc9",
            "cc00009dae714343b2173fba17572cdc",
            "93de0bb6108b4a07b2cca91aa13829cb",
            "87726fb4ff9a4620970208887de71519",
            "574bb5bb86db498fa669906f6c0e8126",
            "895a7857c734474eb7cb84b8dbf6b17e",
            "e867503b36014aa5ab37f755a135c4b0",
            "02e7ddfef0da4b57a4ca4c618f493f8f"
          ]
        },
        "outputId": "8d0d6688-f133-42be-f5fc-a4d832d46f39"
      },
      "outputs": [
        {
          "output_type": "stream",
          "name": "stderr",
          "text": [
            "/usr/local/lib/python3.10/dist-packages/huggingface_hub/utils/_token.py:88: UserWarning: \n",
            "The secret `HF_TOKEN` does not exist in your Colab secrets.\n",
            "To authenticate with the Hugging Face Hub, create a token in your settings tab (https://huggingface.co/settings/tokens), set it as secret in your Google Colab and restart your session.\n",
            "You will be able to reuse this secret in all of your notebooks.\n",
            "Please note that authentication is recommended but still optional to access public models or datasets.\n",
            "  warnings.warn(\n"
          ]
        },
        {
          "output_type": "display_data",
          "data": {
            "text/plain": [
              "tokenizer_config.json:   0%|          | 0.00/48.0 [00:00<?, ?B/s]"
            ],
            "application/vnd.jupyter.widget-view+json": {
              "version_major": 2,
              "version_minor": 0,
              "model_id": "42cf8623bcf343bd9e0da7a40d52f180"
            }
          },
          "metadata": {}
        },
        {
          "output_type": "display_data",
          "data": {
            "text/plain": [
              "vocab.txt:   0%|          | 0.00/232k [00:00<?, ?B/s]"
            ],
            "application/vnd.jupyter.widget-view+json": {
              "version_major": 2,
              "version_minor": 0,
              "model_id": "5a6abdd2706143c1b7e08a805be51335"
            }
          },
          "metadata": {}
        },
        {
          "output_type": "display_data",
          "data": {
            "text/plain": [
              "tokenizer.json:   0%|          | 0.00/466k [00:00<?, ?B/s]"
            ],
            "application/vnd.jupyter.widget-view+json": {
              "version_major": 2,
              "version_minor": 0,
              "model_id": "09d5826cb1114406964352f839bc5e7c"
            }
          },
          "metadata": {}
        },
        {
          "output_type": "display_data",
          "data": {
            "text/plain": [
              "config.json:   0%|          | 0.00/570 [00:00<?, ?B/s]"
            ],
            "application/vnd.jupyter.widget-view+json": {
              "version_major": 2,
              "version_minor": 0,
              "model_id": "a2b6d6cde6f447149dc383dfe33a9e63"
            }
          },
          "metadata": {}
        },
        {
          "output_type": "display_data",
          "data": {
            "text/plain": [
              "model.safetensors:   0%|          | 0.00/440M [00:00<?, ?B/s]"
            ],
            "application/vnd.jupyter.widget-view+json": {
              "version_major": 2,
              "version_minor": 0,
              "model_id": "3c9e191514e645048bcba5f40b907dfe"
            }
          },
          "metadata": {}
        }
      ],
      "source": [
        "import torch\n",
        "from transformers import BertTokenizer, BertModel\n",
        "\n",
        "tokenizer = BertTokenizer.from_pretrained('bert-base-uncased')\n",
        "model = BertModel.from_pretrained(\"bert-base-uncased\", output_hidden_states=True)"
      ]
    },
    {
      "cell_type": "markdown",
      "metadata": {
        "id": "-BDfI_D27tQl"
      },
      "source": [
        "The cell below demonstrates how to input data into the `BERT` model and how to capture word embeddings from each layer."
      ]
    },
    {
      "cell_type": "code",
      "execution_count": 11,
      "metadata": {
        "id": "-_ziH3XV7uM2",
        "colab": {
          "base_uri": "https://localhost:8080/"
        },
        "outputId": "49ddae72-ee1f-41d9-c97b-7f0a5f3175e2"
      },
      "outputs": [
        {
          "output_type": "stream",
          "name": "stdout",
          "text": [
            "Num. of BERT layers: 13\n",
            "Dimensionality of each layer output (batch_size * num_tokens * embedding_dim):  torch.Size([1, 6, 768])\n"
          ]
        }
      ],
      "source": [
        "test_input = \"This is a test\"\n",
        "test_encodings = tokenizer(test_input, return_tensors='pt')\n",
        "output = model(**test_encodings)\n",
        "print(\"Num. of BERT layers:\", len(output[-1]))\n",
        "print(\"Dimensionality of each layer output (batch_size * num_tokens * embedding_dim): \", output[-1][0].size())"
      ]
    },
    {
      "cell_type": "markdown",
      "metadata": {
        "id": "sW3W66Hi7z_F"
      },
      "source": [
        "In this part, you should analyze the embeddings of the word **bat** in the output of each layer of the `BERT` model for the provided sentences. First, identify the location of the **bat** embedding within the output of each layer for both sentences. Next, calculate the `cosine similarity` between the **bat** embeddings for each layer. Finally, examine the similarity levels of the **bat** embeddings between the two sentences across the various layers of the `BERT` model."
      ]
    },
    {
      "cell_type": "code",
      "execution_count": 12,
      "metadata": {
        "id": "PGwfHB7x71D-",
        "colab": {
          "base_uri": "https://localhost:8080/"
        },
        "outputId": "91085344-15f5-4a55-b3ff-7c26cdc2139d"
      },
      "outputs": [
        {
          "output_type": "stream",
          "name": "stdout",
          "text": [
            "{'input_ids': tensor([[  101,  1996,  7151,  5520, 12128,  2083,  1996,  2250,  1012,   102]]), 'token_type_ids': tensor([[0, 0, 0, 0, 0, 0, 0, 0, 0, 0]]), 'attention_mask': tensor([[1, 1, 1, 1, 1, 1, 1, 1, 1, 1]])}\n",
            "{'input_ids': tensor([[ 101, 2002, 4046, 2010, 7151, 1998, 3753, 2000, 1996, 3598, 2492, 1012,\n",
            "          102]]), 'token_type_ids': tensor([[0, 0, 0, 0, 0, 0, 0, 0, 0, 0, 0, 0, 0]]), 'attention_mask': tensor([[1, 1, 1, 1, 1, 1, 1, 1, 1, 1, 1, 1, 1]])}\n",
            "{'input_ids': tensor([[ 101, 7151,  102]]), 'token_type_ids': tensor([[0, 0, 0]]), 'attention_mask': tensor([[1, 1, 1]])}\n"
          ]
        }
      ],
      "source": [
        "sentence1 = 'The bat flew swiftly through the air.' # bat position -> 3\n",
        "sentence2 = 'He grabbed his bat and headed to the baseball field.'# bat position -> 5\n",
        "\n",
        "sentence1_encodings = tokenizer(sentence1, return_tensors='pt')\n",
        "sentence2_encodings = tokenizer(sentence2, return_tensors='pt')\n",
        "bat_encodings = tokenizer('bat', return_tensors='pt')\n",
        "\n",
        "print(sentence1_encodings)\n",
        "print(sentence2_encodings)\n",
        "print(bat_encodings) #bat -> 7151"
      ]
    },
    {
      "cell_type": "code",
      "source": [
        "output1 = model(**sentence1_encodings)\n",
        "output2 = model(**sentence2_encodings)\n",
        "\n",
        "def get_embeddings_for_layers(layer_outputs, word_pos):\n",
        "    bat_layer_embeddings = []\n",
        "    for layer_index in range(len(layer_outputs[-1])):\n",
        "        bat_layer_embedding = layer_outputs[-1][layer_index][:, word_pos, :]\n",
        "        bat_layer_embeddings.append(bat_layer_embedding.detach().numpy())\n",
        "    return bat_layer_embeddings\n",
        "\n",
        "def cosine_similarity(vec1, vec2):\n",
        "\n",
        "    dot_product = np.dot(vec1, vec2.T)\n",
        "    norm_vec1 = np.linalg.norm(vec1)\n",
        "    norm_vec2 = np.linalg.norm(vec2)\n",
        "    similarity = dot_product / (norm_vec1 * norm_vec2)\n",
        "    return similarity\n",
        "\n",
        "def plot_similarity_matrix(layer_embeddings1, layer_embeddings2, title):\n",
        "\n",
        "    layer_similarities = np.zeros((len(output[-1]), len(output[-1])))\n",
        "\n",
        "    for i in range(len(output[-1])):\n",
        "        for j in range(len(output[-1])):\n",
        "            layer_similarities[i][j] = cosine_similarity(layer_embeddings1[i], layer_embeddings2[j])\n",
        "\n",
        "    plt.figure(figsize=(8, 6))\n",
        "    plt.imshow(layer_similarities, cmap='hot')\n",
        "    plt.colorbar()\n",
        "    plt.title(f'Cosine Similarities {title}')\n",
        "    plt.xlabel('Layer')\n",
        "    plt.ylabel('Layer')\n",
        "    plt.show()\n",
        "\n",
        "bat_layer_embeddings1 = get_embeddings_for_layers(output1, 2)\n",
        "bat_layer_embeddings2 = get_embeddings_for_layers(output2, 4)\n",
        "plot_similarity_matrix(bat_layer_embeddings1, bat_layer_embeddings1, 'in first sentence')\n",
        "plot_similarity_matrix(bat_layer_embeddings2, bat_layer_embeddings2, 'in second sentence')\n",
        "plot_similarity_matrix(bat_layer_embeddings1, bat_layer_embeddings2, 'between two sentences')\n"
      ],
      "metadata": {
        "colab": {
          "base_uri": "https://localhost:8080/",
          "height": 1000
        },
        "id": "AuJxMjAqp6pU",
        "outputId": "16c7fa8b-398a-487e-8ea4-b6ed7885a5bd"
      },
      "execution_count": 13,
      "outputs": [
        {
          "output_type": "stream",
          "name": "stderr",
          "text": [
            "<ipython-input-13-0ffa0723ea1d>:25: DeprecationWarning: Conversion of an array with ndim > 0 to a scalar is deprecated, and will error in future. Ensure you extract a single element from your array before performing this operation. (Deprecated NumPy 1.25.)\n",
            "  layer_similarities[i][j] = cosine_similarity(layer_embeddings1[i], layer_embeddings2[j])\n"
          ]
        },
        {
          "output_type": "display_data",
          "data": {
            "text/plain": [
              "<Figure size 800x600 with 2 Axes>"
            ],
            "image/png": "[encoded data removed]"
          },
          "metadata": {}
        },
        {
          "output_type": "display_data",
          "data": {
            "text/plain": [
              "<Figure size 800x600 with 2 Axes>"
            ],
            "image/png": "[encoded data removed]"
          },
          "metadata": {}
        },
        {
          "output_type": "display_data",
          "data": {
            "text/plain": [
              "<Figure size 800x600 with 2 Axes>"
            ],
            "image/png": "[encoded data removed]"
          },
          "metadata": {}
        }
      ]
    },
    {
      "cell_type": "markdown",
      "metadata": {
        "id": "YgP6DU-y8Ap9"
      },
      "source": [
        "Do the same for **charge** provided sentences."
      ]
    },
    {
      "cell_type": "code",
      "execution_count": 14,
      "metadata": {
        "id": "CP2buXR98BNl",
        "colab": {
          "base_uri": "https://localhost:8080/"
        },
        "outputId": "7b760422-b05e-4780-8f73-beec0e424737"
      },
      "outputs": [
        {
          "output_type": "stream",
          "name": "stdout",
          "text": [
            "{'input_ids': tensor([[ 101, 1045, 2342, 2000, 3715, 2026, 3042, 2077, 2975, 1012,  102]]), 'token_type_ids': tensor([[0, 0, 0, 0, 0, 0, 0, 0, 0, 0, 0]]), 'attention_mask': tensor([[1, 1, 1, 1, 1, 1, 1, 1, 1, 1, 1]])}\n",
            "{'input_ids': tensor([[  101,  2002,  2001,  4727,  2005,  3715,  1997, 11933,  1012,   102]]), 'token_type_ids': tensor([[0, 0, 0, 0, 0, 0, 0, 0, 0, 0]]), 'attention_mask': tensor([[1, 1, 1, 1, 1, 1, 1, 1, 1, 1]])}\n",
            "{'input_ids': tensor([[ 101, 3715,  102]]), 'token_type_ids': tensor([[0, 0, 0]]), 'attention_mask': tensor([[1, 1, 1]])}\n"
          ]
        }
      ],
      "source": [
        "sentence1 = 'I need to charge my phone before leaving.' # charge position -> 5\n",
        "sentence2 = 'He was arrested for charge of theft.'# charge position -> 6\n",
        "\n",
        "sentence1_encodings = tokenizer(sentence1, return_tensors='pt')\n",
        "sentence2_encodings = tokenizer(sentence2, return_tensors='pt')\n",
        "charge_encodings = tokenizer('charge', return_tensors='pt')\n",
        "\n",
        "print(sentence1_encodings)\n",
        "print(sentence2_encodings)\n",
        "print(charge_encodings) #charge -> 3715"
      ]
    },
    {
      "cell_type": "code",
      "source": [
        "output1 = model(**sentence1_encodings)\n",
        "output2 = model(**sentence2_encodings)\n",
        "\n",
        "charge_layer_embeddings1 = get_embeddings_for_layers(output1, 4)\n",
        "charge_layer_embeddings2 = get_embeddings_for_layers(output2, 5)\n",
        "plot_similarity_matrix(charge_layer_embeddings1, charge_layer_embeddings1, 'in first sentence')\n",
        "plot_similarity_matrix(charge_layer_embeddings1, charge_layer_embeddings1, 'in second sentence')\n",
        "plot_similarity_matrix(charge_layer_embeddings1, charge_layer_embeddings2, 'between two sentences')"
      ],
      "metadata": {
        "colab": {
          "base_uri": "https://localhost:8080/",
          "height": 1000
        },
        "id": "6uq982puyFRc",
        "outputId": "7abbed46-81e4-4eeb-da93-8eb74911d721"
      },
      "execution_count": 15,
      "outputs": [
        {
          "output_type": "stream",
          "name": "stderr",
          "text": [
            "<ipython-input-13-0ffa0723ea1d>:25: DeprecationWarning: Conversion of an array with ndim > 0 to a scalar is deprecated, and will error in future. Ensure you extract a single element from your array before performing this operation. (Deprecated NumPy 1.25.)\n",
            "  layer_similarities[i][j] = cosine_similarity(layer_embeddings1[i], layer_embeddings2[j])\n"
          ]
        },
        {
          "output_type": "display_data",
          "data": {
            "text/plain": [
              "<Figure size 800x600 with 2 Axes>"
            ],
            "image/png": "[encoded data removed]"
          },
          "metadata": {}
        },
        {
          "output_type": "display_data",
          "data": {
            "text/plain": [
              "<Figure size 800x600 with 2 Axes>"
            ],
            "image/png": "[encoded data removed]"
          },
          "metadata": {}
        },
        {
          "output_type": "display_data",
          "data": {
            "text/plain": [
              "<Figure size 800x600 with 2 Axes>"
            ],
            "image/png": "[encoded data removed]"
          },
          "metadata": {}
        }
      ]
    },
    {
      "cell_type": "markdown",
      "metadata": {
        "id": "-f_4s-_c8DI1"
      },
      "source": [
        "Write a few sentences about your results and how `BERT` captures the contextual meaning of words.\n",
        "\n"
      ]
    },
    {
      "cell_type": "markdown",
      "metadata": {
        "id": "fzYP8ShGO7Fv"
      },
      "source": [
        "in each layer, the representation of word is changing and getting closer to the meaning of the word in that context\n",
        "as we can see, **in a single sentence** : in the first layers, the embeddings are\n",
        "similar and as we go to the next layers, the similarity drops\n",
        "\n",
        "and **for two sentences**, first layer embeddings are quite similar because they came from a **static embedding**, after some layers they are not similar anymore and each one represents the meaning of the words in their context\n",
        "\n",
        "**in conclusion**: BERT captures contextual meaning of words with attentions in its each layer, and after each layer, the representations of words are getting better."
      ]
    },
    {
      "cell_type": "markdown",
      "metadata": {
        "id": "2bI3GUhR8Ydu"
      },
      "source": [
        "### Question 1.4 (10 points)\n",
        "In this part, we will use `BERT` for masked word completion task. Run the following cell to download the pretrained BERT base model (cased)."
      ]
    },
    {
      "cell_type": "code",
      "execution_count": 16,
      "metadata": {
        "id": "_G7eW-n_8khd",
        "colab": {
          "base_uri": "https://localhost:8080/"
        },
        "outputId": "7e5bf456-de2e-45c3-f198-808bd45399d1"
      },
      "outputs": [
        {
          "output_type": "stream",
          "name": "stderr",
          "text": [
            "Some weights of the model checkpoint at bert-base-uncased were not used when initializing BertForMaskedLM: ['bert.pooler.dense.bias', 'bert.pooler.dense.weight', 'cls.seq_relationship.bias', 'cls.seq_relationship.weight']\n",
            "- This IS expected if you are initializing BertForMaskedLM from the checkpoint of a model trained on another task or with another architecture (e.g. initializing a BertForSequenceClassification model from a BertForPreTraining model).\n",
            "- This IS NOT expected if you are initializing BertForMaskedLM from the checkpoint of a model that you expect to be exactly identical (initializing a BertForSequenceClassification model from a BertForSequenceClassification model).\n"
          ]
        }
      ],
      "source": [
        "from transformers import AutoTokenizer, AutoModelForMaskedLM\n",
        "import torch\n",
        "import torch.nn.functional as F\n",
        "\n",
        "tokenizer = AutoTokenizer.from_pretrained(\"bert-base-uncased\")\n",
        "model = AutoModelForMaskedLM.from_pretrained(\"bert-base-uncased\")"
      ]
    },
    {
      "cell_type": "markdown",
      "metadata": {
        "id": "sJUwtMHE8nOh"
      },
      "source": [
        "Let's challenge `BERT`'s knowledge about named entities. Consider the following sentences\n",
        "- **William Shakespeare**, widely regarded as the greatest writer in the English language, was born in Stratford-upon-Avon, England, in 1564.\n",
        "- The Amazon Rainforest, spanning across nine countries in **South America**,\n",
        "is the largest tropical rainforest on Earth, covering an area of over 6.7\n",
        "million square kilometers (2.7 million square miles) and harboring\n",
        "unparalleled biodiversity.\n",
        "- The Statue of Liberty, a gift from **France** to the United States, was dedicated\n",
        "on October 28, 1886. Standing on Liberty Island in New York Harbor, it\n",
        "symbolizes freedom and democracy and has become a universal symbol of hope and\n",
        "opportunity.\n",
        "\n",
        "Replace the bold words with the mask token (if they are more than one token, put as many as needed). Write down the top 5 choices of BERT for the mask tokens. In this part, you should use `token_logits`.\n",
        "\n",
        "*Hints*\n",
        "\n",
        "- Use `torch.where` to find the index of a masked token within the input tensor (note that `tokenizer.mask_token_id` gives us the index of the mask token in the vocabulary).\n",
        "- Use `torch.topk` to get the k largest elements of a given tensor along a given dimension.\n",
        "- Use `tokenizer.decode([token_id])` to convert a single integer `token_id` to a token string."
      ]
    },
    {
      "cell_type": "code",
      "execution_count": 17,
      "metadata": {
        "id": "_03N5Ie58oFV",
        "colab": {
          "base_uri": "https://localhost:8080/"
        },
        "outputId": "2fe1f59e-0d5f-4e8d-a8e8-f509ac4437f4"
      },
      "outputs": [
        {
          "output_type": "stream",
          "name": "stdout",
          "text": [
            "Predicted masks for sentence 1\n",
            "\n",
            "Top-5 predicted tokens and their probabilities:\n",
            ".: 0.0403 the: 0.0160 ): 0.0130 \": 0.0129 ,: 0.0113 \n",
            "\n",
            "Top-5 predicted tokens and their probabilities:\n",
            "smith: 0.0278 thomas: 0.0230 he: 0.0164 williams: 0.0163 shakespeare: 0.0148 \n",
            "\n",
            "\n",
            "\n",
            "Predicted masks for sentence 2\n",
            "\n",
            "Top-5 predicted tokens and their probabilities:\n",
            "the: 0.0615 and: 0.0206 their: 0.0180 global: 0.0121 a: 0.0112 \n",
            "\n",
            "Top-5 predicted tokens and their probabilities:\n",
            "africa: 0.0303 brazil: 0.0274 america: 0.0169 time: 0.0164 ): 0.0140 \n",
            "\n",
            "\n",
            "\n",
            "Predicted masks for sentence 3\n",
            "\n",
            "Top-5 predicted tokens and their probabilities:\n",
            "canada: 0.1140 france: 0.0962 england: 0.0814 mexico: 0.0394 britain: 0.0393 \n",
            "\n",
            "\n",
            "\n"
          ]
        }
      ],
      "source": [
        "\n",
        "sentence1 = '[MASK] [MASK], widely regarded as the greatest writer in the English language, was born in Stratford-upon-Avon, England, in 1564.'\n",
        "sentence2 = 'The Amazon Rainforest, spanning across nine countries in [MASK] [MASK], is the largest tropical rainforest on Earth, \\\n",
        "covering an area of over 6.7 million square kilometers (2.7 million square miles) and harboring unparalleled biodiversity.'\n",
        "sentence3 = 'The Statue of Liberty, a gift from [MASK] to the United States, was dedicated on October 28, 1886. \\\n",
        "Standing on Liberty Island in New York Harbor, it symbolizes freedom and democracy and has become a universal symbol of hope and opportunity.'\n",
        "\n",
        "def print_top_predictions(topk_predictions, k):\n",
        "    print(\"Top-{} predicted tokens and their probabilities:\".format(k))\n",
        "    for token, prob in topk_predictions:\n",
        "        print(\"{}: {:.4f}\".format(token, prob), end=' ')\n",
        "    print('\\n')\n",
        "\n",
        "def predict_masks(sentence, k, sentence_num):\n",
        "    print(f'Predicted masks for sentence {sentence_num}\\n')\n",
        "    tokenized_text = tokenizer.tokenize(sentence)\n",
        "    masked_indices = [i for i, token in enumerate(tokenized_text) if token == '[MASK]']\n",
        "    indexed_tokens = tokenizer.convert_tokens_to_ids(tokenized_text)\n",
        "    tokens_tensor = torch.tensor([indexed_tokens])\n",
        "\n",
        "    with torch.no_grad():\n",
        "        predictions = model(tokens_tensor)\n",
        "\n",
        "    for masked_index in masked_indices:\n",
        "        logits = predictions[0][0][masked_index]\n",
        "        probabilities = F.softmax(logits, dim=0)\n",
        "        topk_predicted_probabilities, topk_predicted_indices = torch.topk(probabilities, k)\n",
        "\n",
        "        # Convert indices to tokens\n",
        "        topk_predicted_tokens = tokenizer.convert_ids_to_tokens(topk_predicted_indices.tolist())\n",
        "\n",
        "        # Zip tokens with probabilities\n",
        "        topk_predictions = list(zip(topk_predicted_tokens, topk_predicted_probabilities.tolist()))\n",
        "        print_top_predictions(topk_predictions, k)\n",
        "    print('\\n')\n",
        "\n",
        "K = 5\n",
        "\n",
        "predict_masks(sentence1, K, 1)\n",
        "predict_masks(sentence2, K, 2)\n",
        "predict_masks(sentence3, K, 3)\n"
      ]
    },
    {
      "cell_type": "markdown",
      "metadata": {
        "id": "dQ1x5vcH8pu1"
      },
      "source": [
        "Write a few sentences about your results and how masked language modeling works."
      ]
    },
    {
      "cell_type": "markdown",
      "metadata": {
        "id": "niH2-d-4OuX5"
      },
      "source": [
        "The masked language modeling is the objective for pre-training of BERT, which it will get a masked sentence in the input and tries to predict the masked words in the output. it will use other words and their attentions to the masked words to findout its meaning from its context and updates the representation of the MASK tokens.\n",
        "\n",
        "and for each MASK token, the model will calculate a probability distribution for each word in its vocabulary, and predicts the MASK token based on it.\n",
        "\n",
        "for the first and second sentences, its not working that well and it because the both name tokens are masked, BERT struggle with two mask tokens next to each other like this ( specially for named entities )\n",
        "\n",
        "and for the third one, the correct answer is in the top 5 predicted words, so its acceptable."
      ]
    },
    {
      "cell_type": "markdown",
      "metadata": {
        "id": "-t08yBL9utFA"
      },
      "source": [
        "# Part 2: Transfer Learning with BERT (60 points)"
      ]
    },
    {
      "cell_type": "markdown",
      "metadata": {
        "id": "N25dvF4jvYoy"
      },
      "source": [
        "## Adding a hardware accelerator\n",
        "\n",
        "Please go to the menu and add a GPU as follows:\n",
        "\n",
        "`Edit > Notebook Settings > Hardware accelerator > (GPU)`\n",
        "\n",
        "Run the following cell to confirm that the GPU is detected."
      ]
    },
    {
      "cell_type": "code",
      "execution_count": 18,
      "metadata": {
        "id": "edOh9ooiIW1B",
        "colab": {
          "base_uri": "https://localhost:8080/"
        },
        "outputId": "0fdec556-4e59-4e66-9777-aab130fe7953"
      },
      "outputs": [
        {
          "output_type": "stream",
          "name": "stdout",
          "text": [
            "Found device: Tesla T4, n_gpu: 1\n"
          ]
        }
      ],
      "source": [
        "import torch\n",
        "\n",
        "# Confirm that the GPU is detected\n",
        "\n",
        "assert torch.cuda.is_available()\n",
        "\n",
        "# Get the GPU device name.\n",
        "device_name = torch.cuda.get_device_name()\n",
        "n_gpu = torch.cuda.device_count()\n",
        "print(f\"Found device: {device_name}, n_gpu: {n_gpu}\")"
      ]
    },
    {
      "cell_type": "markdown",
      "metadata": {
        "id": "xrvH7xx9LnMC"
      },
      "source": [
        "## Installing Hugging Face's Transformers library\n",
        "We will use Hugging Face's Transformers (https://github.com/huggingface/transformers), an open-source library that provides general-purpose architectures for natural language understanding and generation with a collection of various pretrained models made by the NLP community. This library will allow us to easily use pretrained models like `BERT` and perform experiments on top of them. We can use these models to solve downstream target tasks, such as text classification, question answering, and sequence labeling.\n",
        "\n",
        "Run the following cell to install Hugging Face's Transformers library, download data and supporting code for the homework, and install some additional packages. Note that you will be asked to link with your Google Drive account to download some of these files."
      ]
    },
    {
      "cell_type": "code",
      "execution_count": 1,
      "metadata": {
        "id": "gtqS2e5fxpqa",
        "colab": {
          "base_uri": "https://localhost:8080/",
          "height": 1000
        },
        "outputId": "6431aa16-37de-445b-a6f6-fe8416b42a60"
      },
      "outputs": [
        {
          "output_type": "stream",
          "name": "stdout",
          "text": [
            "Collecting git+https://github.com/huggingface/accelerate\n",
            "  Cloning https://github.com/huggingface/accelerate to /tmp/pip-req-build-sql_kt5n\n",
            "  Running command git clone --filter=blob:none --quiet https://github.com/huggingface/accelerate /tmp/pip-req-build-sql_kt5n\n",
            "  Resolved https://github.com/huggingface/accelerate to commit 2ad42e77c3a1993dbfb9bc299c21bae2005c0572\n",
            "  Installing build dependencies ... \u001b[?25l\u001b[?25hdone\n",
            "  Getting requirements to build wheel ... \u001b[?25l\u001b[?25hdone\n",
            "  Preparing metadata (pyproject.toml) ... \u001b[?25l\u001b[?25hdone\n",
            "Requirement already satisfied: numpy>=1.17 in /usr/local/lib/python3.10/dist-packages (from accelerate==0.29.0.dev0) (1.25.2)\n",
            "Requirement already satisfied: packaging>=20.0 in /usr/local/lib/python3.10/dist-packages (from accelerate==0.29.0.dev0) (24.0)\n",
            "Requirement already satisfied: psutil in /usr/local/lib/python3.10/dist-packages (from accelerate==0.29.0.dev0) (5.9.5)\n",
            "Requirement already satisfied: pyyaml in /usr/local/lib/python3.10/dist-packages (from accelerate==0.29.0.dev0) (6.0.1)\n",
            "Requirement already satisfied: torch>=1.10.0 in /usr/local/lib/python3.10/dist-packages (from accelerate==0.29.0.dev0) (2.2.1+cu121)\n",
            "Requirement already satisfied: huggingface-hub in /usr/local/lib/python3.10/dist-packages (from accelerate==0.29.0.dev0) (0.20.3)\n",
            "Requirement already satisfied: safetensors>=0.3.1 in /usr/local/lib/python3.10/dist-packages (from accelerate==0.29.0.dev0) (0.4.2)\n",
            "Requirement already satisfied: filelock in /usr/local/lib/python3.10/dist-packages (from torch>=1.10.0->accelerate==0.29.0.dev0) (3.13.1)\n",
            "Requirement already satisfied: typing-extensions>=4.8.0 in /usr/local/lib/python3.10/dist-packages (from torch>=1.10.0->accelerate==0.29.0.dev0) (4.10.0)\n",
            "Requirement already satisfied: sympy in /usr/local/lib/python3.10/dist-packages (from torch>=1.10.0->accelerate==0.29.0.dev0) (1.12)\n",
            "Requirement already satisfied: networkx in /usr/local/lib/python3.10/dist-packages (from torch>=1.10.0->accelerate==0.29.0.dev0) (3.2.1)\n",
            "Requirement already satisfied: jinja2 in /usr/local/lib/python3.10/dist-packages (from torch>=1.10.0->accelerate==0.29.0.dev0) (3.1.3)\n",
            "Requirement already satisfied: fsspec in /usr/local/lib/python3.10/dist-packages (from torch>=1.10.0->accelerate==0.29.0.dev0) (2023.6.0)\n",
            "Collecting nvidia-cuda-nvrtc-cu12==12.1.105 (from torch>=1.10.0->accelerate==0.29.0.dev0)\n",
            "  Downloading nvidia_cuda_nvrtc_cu12-12.1.105-py3-none-manylinux1_x86_64.whl (23.7 MB)\n",
            "\u001b[2K     \u001b[90m━━━━━━━━━━━━━━━━━━━━━━━━━━━━━━━━━━━━━━━━\u001b[0m \u001b[32m23.7/23.7 MB\u001b[0m \u001b[31m21.2 MB/s\u001b[0m eta \u001b[36m0:00:00\u001b[0m\n",
            "\u001b[?25hCollecting nvidia-cuda-runtime-cu12==12.1.105 (from torch>=1.10.0->accelerate==0.29.0.dev0)\n",
            "  Downloading nvidia_cuda_runtime_cu12-12.1.105-py3-none-manylinux1_x86_64.whl (823 kB)\n",
            "\u001b[2K     \u001b[90m━━━━━━━━━━━━━━━━━━━━━━━━━━━━━━━━━━━━━━━━\u001b[0m \u001b[32m823.6/823.6 kB\u001b[0m \u001b[31m31.9 MB/s\u001b[0m eta \u001b[36m0:00:00\u001b[0m\n",
            "\u001b[?25hCollecting nvidia-cuda-cupti-cu12==12.1.105 (from torch>=1.10.0->accelerate==0.29.0.dev0)\n",
            "  Downloading nvidia_cuda_cupti_cu12-12.1.105-py3-none-manylinux1_x86_64.whl (14.1 MB)\n",
            "\u001b[2K     \u001b[90m━━━━━━━━━━━━━━━━━━━━━━━━━━━━━━━━━━━━━━━━\u001b[0m \u001b[32m14.1/14.1 MB\u001b[0m \u001b[31m35.0 MB/s\u001b[0m eta \u001b[36m0:00:00\u001b[0m\n",
            "\u001b[?25hCollecting nvidia-cudnn-cu12==8.9.2.26 (from torch>=1.10.0->accelerate==0.29.0.dev0)\n",
            "  Downloading nvidia_cudnn_cu12-8.9.2.26-py3-none-manylinux1_x86_64.whl (731.7 MB)\n",
            "\u001b[2K     \u001b[90m━━━━━━━━━━━━━━━━━━━━━━━━━━━━━━━━━━━━━━━━\u001b[0m \u001b[32m731.7/731.7 MB\u001b[0m \u001b[31m1.0 MB/s\u001b[0m eta \u001b[36m0:00:00\u001b[0m\n",
            "\u001b[?25hCollecting nvidia-cublas-cu12==12.1.3.1 (from torch>=1.10.0->accelerate==0.29.0.dev0)\n",
            "  Downloading nvidia_cublas_cu12-12.1.3.1-py3-none-manylinux1_x86_64.whl (410.6 MB)\n",
            "\u001b[2K     \u001b[90m━━━━━━━━━━━━━━━━━━━━━━━━━━━━━━━━━━━━━━━━\u001b[0m \u001b[32m410.6/410.6 MB\u001b[0m \u001b[31m1.5 MB/s\u001b[0m eta \u001b[36m0:00:00\u001b[0m\n",
            "\u001b[?25hCollecting nvidia-cufft-cu12==11.0.2.54 (from torch>=1.10.0->accelerate==0.29.0.dev0)\n",
            "  Downloading nvidia_cufft_cu12-11.0.2.54-py3-none-manylinux1_x86_64.whl (121.6 MB)\n",
            "\u001b[2K     \u001b[90m━━━━━━━━━━━━━━━━━━━━━━━━━━━━━━━━━━━━━━━━\u001b[0m \u001b[32m121.6/121.6 MB\u001b[0m \u001b[31m3.4 MB/s\u001b[0m eta \u001b[36m0:00:00\u001b[0m\n",
            "\u001b[?25hCollecting nvidia-curand-cu12==10.3.2.106 (from torch>=1.10.0->accelerate==0.29.0.dev0)\n",
            "  Downloading nvidia_curand_cu12-10.3.2.106-py3-none-manylinux1_x86_64.whl (56.5 MB)\n",
            "\u001b[2K     \u001b[90m━━━━━━━━━━━━━━━━━━━━━━━━━━━━━━━━━━━━━━━━\u001b[0m \u001b[32m56.5/56.5 MB\u001b[0m \u001b[31m3.9 MB/s\u001b[0m eta \u001b[36m0:00:00\u001b[0m\n",
            "\u001b[?25hCollecting nvidia-cusolver-cu12==11.4.5.107 (from torch>=1.10.0->accelerate==0.29.0.dev0)\n",
            "  Downloading nvidia_cusolver_cu12-11.4.5.107-py3-none-manylinux1_x86_64.whl (124.2 MB)\n",
            "\u001b[2K     \u001b[90m━━━━━━━━━━━━━━━━━━━━━━━━━━━━━━━━━━━━━━━━\u001b[0m \u001b[32m124.2/124.2 MB\u001b[0m \u001b[31m3.5 MB/s\u001b[0m eta \u001b[36m0:00:00\u001b[0m\n",
            "\u001b[?25hCollecting nvidia-cusparse-cu12==12.1.0.106 (from torch>=1.10.0->accelerate==0.29.0.dev0)\n",
            "  Downloading nvidia_cusparse_cu12-12.1.0.106-py3-none-manylinux1_x86_64.whl (196.0 MB)\n",
            "\u001b[2K     \u001b[90m━━━━━━━━━━━━━━━━━━━━━━━━━━━━━━━━━━━━━━━━\u001b[0m \u001b[32m196.0/196.0 MB\u001b[0m \u001b[31m1.4 MB/s\u001b[0m eta \u001b[36m0:00:00\u001b[0m\n",
            "\u001b[?25hCollecting nvidia-nccl-cu12==2.19.3 (from torch>=1.10.0->accelerate==0.29.0.dev0)\n",
            "  Downloading nvidia_nccl_cu12-2.19.3-py3-none-manylinux1_x86_64.whl (166.0 MB)\n",
            "\u001b[2K     \u001b[90m━━━━━━━━━━━━━━━━━━━━━━━━━━━━━━━━━━━━━━━━\u001b[0m \u001b[32m166.0/166.0 MB\u001b[0m \u001b[31m2.8 MB/s\u001b[0m eta \u001b[36m0:00:00\u001b[0m\n",
            "\u001b[?25hCollecting nvidia-nvtx-cu12==12.1.105 (from torch>=1.10.0->accelerate==0.29.0.dev0)\n",
            "  Downloading nvidia_nvtx_cu12-12.1.105-py3-none-manylinux1_x86_64.whl (99 kB)\n",
            "\u001b[2K     \u001b[90m━━━━━━━━━━━━━━━━━━━━━━━━━━━━━━━━━━━━━━━━\u001b[0m \u001b[32m99.1/99.1 kB\u001b[0m \u001b[31m4.9 MB/s\u001b[0m eta \u001b[36m0:00:00\u001b[0m\n",
            "\u001b[?25hRequirement already satisfied: triton==2.2.0 in /usr/local/lib/python3.10/dist-packages (from torch>=1.10.0->accelerate==0.29.0.dev0) (2.2.0)\n",
            "Collecting nvidia-nvjitlink-cu12 (from nvidia-cusolver-cu12==11.4.5.107->torch>=1.10.0->accelerate==0.29.0.dev0)\n",
            "  Downloading nvidia_nvjitlink_cu12-12.4.99-py3-none-manylinux2014_x86_64.whl (21.1 MB)\n",
            "\u001b[2K     \u001b[90m━━━━━━━━━━━━━━━━━━━━━━━━━━━━━━━━━━━━━━━━\u001b[0m \u001b[32m21.1/21.1 MB\u001b[0m \u001b[31m2.1 MB/s\u001b[0m eta \u001b[36m0:00:00\u001b[0m\n",
            "\u001b[?25hRequirement already satisfied: requests in /usr/local/lib/python3.10/dist-packages (from huggingface-hub->accelerate==0.29.0.dev0) (2.31.0)\n",
            "Requirement already satisfied: tqdm>=4.42.1 in /usr/local/lib/python3.10/dist-packages (from huggingface-hub->accelerate==0.29.0.dev0) (4.66.2)\n",
            "Requirement already satisfied: MarkupSafe>=2.0 in /usr/local/lib/python3.10/dist-packages (from jinja2->torch>=1.10.0->accelerate==0.29.0.dev0) (2.1.5)\n",
            "Requirement already satisfied: charset-normalizer<4,>=2 in /usr/local/lib/python3.10/dist-packages (from requests->huggingface-hub->accelerate==0.29.0.dev0) (3.3.2)\n",
            "Requirement already satisfied: idna<4,>=2.5 in /usr/local/lib/python3.10/dist-packages (from requests->huggingface-hub->accelerate==0.29.0.dev0) (3.6)\n",
            "Requirement already satisfied: urllib3<3,>=1.21.1 in /usr/local/lib/python3.10/dist-packages (from requests->huggingface-hub->accelerate==0.29.0.dev0) (2.0.7)\n",
            "Requirement already satisfied: certifi>=2017.4.17 in /usr/local/lib/python3.10/dist-packages (from requests->huggingface-hub->accelerate==0.29.0.dev0) (2024.2.2)\n",
            "Requirement already satisfied: mpmath>=0.19 in /usr/local/lib/python3.10/dist-packages (from sympy->torch>=1.10.0->accelerate==0.29.0.dev0) (1.3.0)\n",
            "Building wheels for collected packages: accelerate\n",
            "  Building wheel for accelerate (pyproject.toml) ... \u001b[?25l\u001b[?25hdone\n",
            "  Created wheel for accelerate: filename=accelerate-0.29.0.dev0-py3-none-any.whl size=290745 sha256=50c85dd523103883935df461e9340f3c0308321b05389010fad5f5fa48774477\n",
            "  Stored in directory: /tmp/pip-ephem-wheel-cache-ytg2xln6/wheels/f6/c7/9d/1b8a5ca8353d9307733bc719107acb67acdc95063bba749f26\n",
            "Successfully built accelerate\n",
            "Installing collected packages: nvidia-nvtx-cu12, nvidia-nvjitlink-cu12, nvidia-nccl-cu12, nvidia-curand-cu12, nvidia-cufft-cu12, nvidia-cuda-runtime-cu12, nvidia-cuda-nvrtc-cu12, nvidia-cuda-cupti-cu12, nvidia-cublas-cu12, nvidia-cusparse-cu12, nvidia-cudnn-cu12, nvidia-cusolver-cu12, accelerate\n",
            "Successfully installed accelerate-0.29.0.dev0 nvidia-cublas-cu12-12.1.3.1 nvidia-cuda-cupti-cu12-12.1.105 nvidia-cuda-nvrtc-cu12-12.1.105 nvidia-cuda-runtime-cu12-12.1.105 nvidia-cudnn-cu12-8.9.2.26 nvidia-cufft-cu12-11.0.2.54 nvidia-curand-cu12-10.3.2.106 nvidia-cusolver-cu12-11.4.5.107 nvidia-cusparse-cu12-12.1.0.106 nvidia-nccl-cu12-2.19.3 nvidia-nvjitlink-cu12-12.4.99 nvidia-nvtx-cu12-12.1.105\n",
            "Requirement already satisfied: transformers in /usr/local/lib/python3.10/dist-packages (4.38.2)\n",
            "Requirement already satisfied: filelock in /usr/local/lib/python3.10/dist-packages (from transformers) (3.13.1)\n",
            "Requirement already satisfied: huggingface-hub<1.0,>=0.19.3 in /usr/local/lib/python3.10/dist-packages (from transformers) (0.20.3)\n",
            "Requirement already satisfied: numpy>=1.17 in /usr/local/lib/python3.10/dist-packages (from transformers) (1.25.2)\n",
            "Requirement already satisfied: packaging>=20.0 in /usr/local/lib/python3.10/dist-packages (from transformers) (24.0)\n",
            "Requirement already satisfied: pyyaml>=5.1 in /usr/local/lib/python3.10/dist-packages (from transformers) (6.0.1)\n",
            "Requirement already satisfied: regex!=2019.12.17 in /usr/local/lib/python3.10/dist-packages (from transformers) (2023.12.25)\n",
            "Requirement already satisfied: requests in /usr/local/lib/python3.10/dist-packages (from transformers) (2.31.0)\n",
            "Requirement already satisfied: tokenizers<0.19,>=0.14 in /usr/local/lib/python3.10/dist-packages (from transformers) (0.15.2)\n",
            "Requirement already satisfied: safetensors>=0.4.1 in /usr/local/lib/python3.10/dist-packages (from transformers) (0.4.2)\n",
            "Requirement already satisfied: tqdm>=4.27 in /usr/local/lib/python3.10/dist-packages (from transformers) (4.66.2)\n",
            "Requirement already satisfied: fsspec>=2023.5.0 in /usr/local/lib/python3.10/dist-packages (from huggingface-hub<1.0,>=0.19.3->transformers) (2023.6.0)\n",
            "Requirement already satisfied: typing-extensions>=3.7.4.3 in /usr/local/lib/python3.10/dist-packages (from huggingface-hub<1.0,>=0.19.3->transformers) (4.10.0)\n",
            "Requirement already satisfied: charset-normalizer<4,>=2 in /usr/local/lib/python3.10/dist-packages (from requests->transformers) (3.3.2)\n",
            "Requirement already satisfied: idna<4,>=2.5 in /usr/local/lib/python3.10/dist-packages (from requests->transformers) (3.6)\n",
            "Requirement already satisfied: urllib3<3,>=1.21.1 in /usr/local/lib/python3.10/dist-packages (from requests->transformers) (2.0.7)\n",
            "Requirement already satisfied: certifi>=2017.4.17 in /usr/local/lib/python3.10/dist-packages (from requests->transformers) (2024.2.2)\n"
          ]
        },
        {
          "output_type": "stream",
          "name": "stderr",
          "text": [
            "WARNING:root:pydrive is deprecated and no longer maintained. We recommend that you migrate your projects to pydrive2, the maintained fork of pydrive\n"
          ]
        },
        {
          "output_type": "stream",
          "name": "stdout",
          "text": [
            "success!\n",
            "Data and supporting code downloaded!\n",
            "model directory created\n",
            "Collecting seqeval (from -r requirements.txt (line 1))\n",
            "  Downloading seqeval-1.2.2.tar.gz (43 kB)\n",
            "\u001b[2K     \u001b[90m━━━━━━━━━━━━━━━━━━━━━━━━━━━━━━━━━━━━━━━━\u001b[0m \u001b[32m43.6/43.6 kB\u001b[0m \u001b[31m795.9 kB/s\u001b[0m eta \u001b[36m0:00:00\u001b[0m\n",
            "\u001b[?25h  Preparing metadata (setup.py) ... \u001b[?25l\u001b[?25hdone\n",
            "Collecting conllu (from -r requirements.txt (line 2))\n",
            "  Downloading conllu-4.5.3-py2.py3-none-any.whl (16 kB)\n",
            "Collecting googletrans (from -r requirements.txt (line 3))\n",
            "  Downloading googletrans-3.0.0.tar.gz (17 kB)\n",
            "  Preparing metadata (setup.py) ... \u001b[?25l\u001b[?25hdone\n",
            "Collecting langdetect (from -r requirements.txt (line 4))\n",
            "  Downloading langdetect-1.0.9.tar.gz (981 kB)\n",
            "\u001b[2K     \u001b[90m━━━━━━━━━━━━━━━━━━━━━━━━━━━━━━━━━━━━━━━━\u001b[0m \u001b[32m981.5/981.5 kB\u001b[0m \u001b[31m7.1 MB/s\u001b[0m eta \u001b[36m0:00:00\u001b[0m\n",
            "\u001b[?25h  Preparing metadata (setup.py) ... \u001b[?25l\u001b[?25hdone\n",
            "Requirement already satisfied: numpy>=1.14.0 in /usr/local/lib/python3.10/dist-packages (from seqeval->-r requirements.txt (line 1)) (1.25.2)\n",
            "Requirement already satisfied: scikit-learn>=0.21.3 in /usr/local/lib/python3.10/dist-packages (from seqeval->-r requirements.txt (line 1)) (1.2.2)\n",
            "Collecting httpx==0.13.3 (from googletrans->-r requirements.txt (line 3))\n",
            "  Downloading httpx-0.13.3-py3-none-any.whl (55 kB)\n",
            "\u001b[2K     \u001b[90m━━━━━━━━━━━━━━━━━━━━━━━━━━━━━━━━━━━━━━━━\u001b[0m \u001b[32m55.1/55.1 kB\u001b[0m \u001b[31m5.5 MB/s\u001b[0m eta \u001b[36m0:00:00\u001b[0m\n",
            "\u001b[?25hRequirement already satisfied: certifi in /usr/local/lib/python3.10/dist-packages (from httpx==0.13.3->googletrans->-r requirements.txt (line 3)) (2024.2.2)\n",
            "Collecting hstspreload (from httpx==0.13.3->googletrans->-r requirements.txt (line 3))\n",
            "  Downloading hstspreload-2024.3.1-py3-none-any.whl (1.1 MB)\n",
            "\u001b[2K     \u001b[90m━━━━━━━━━━━━━━━━━━━━━━━━━━━━━━━━━━━━━━━━\u001b[0m \u001b[32m1.1/1.1 MB\u001b[0m \u001b[31m21.2 MB/s\u001b[0m eta \u001b[36m0:00:00\u001b[0m\n",
            "\u001b[?25hRequirement already satisfied: sniffio in /usr/local/lib/python3.10/dist-packages (from httpx==0.13.3->googletrans->-r requirements.txt (line 3)) (1.3.1)\n",
            "Collecting chardet==3.* (from httpx==0.13.3->googletrans->-r requirements.txt (line 3))\n",
            "  Downloading chardet-3.0.4-py2.py3-none-any.whl (133 kB)\n",
            "\u001b[2K     \u001b[90m━━━━━━━━━━━━━━━━━━━━━━━━━━━━━━━━━━━━━━━━\u001b[0m \u001b[32m133.4/133.4 kB\u001b[0m \u001b[31m9.9 MB/s\u001b[0m eta \u001b[36m0:00:00\u001b[0m\n",
            "\u001b[?25hCollecting idna==2.* (from httpx==0.13.3->googletrans->-r requirements.txt (line 3))\n",
            "  Downloading idna-2.10-py2.py3-none-any.whl (58 kB)\n",
            "\u001b[2K     \u001b[90m━━━━━━━━━━━━━━━━━━━━━━━━━━━━━━━━━━━━━━━━\u001b[0m \u001b[32m58.8/58.8 kB\u001b[0m \u001b[31m4.8 MB/s\u001b[0m eta \u001b[36m0:00:00\u001b[0m\n",
            "\u001b[?25hCollecting rfc3986<2,>=1.3 (from httpx==0.13.3->googletrans->-r requirements.txt (line 3))\n",
            "  Downloading rfc3986-1.5.0-py2.py3-none-any.whl (31 kB)\n",
            "Collecting httpcore==0.9.* (from httpx==0.13.3->googletrans->-r requirements.txt (line 3))\n",
            "  Downloading httpcore-0.9.1-py3-none-any.whl (42 kB)\n",
            "\u001b[2K     \u001b[90m━━━━━━━━━━━━━━━━━━━━━━━━━━━━━━━━━━━━━━━━\u001b[0m \u001b[32m42.6/42.6 kB\u001b[0m \u001b[31m4.4 MB/s\u001b[0m eta \u001b[36m0:00:00\u001b[0m\n",
            "\u001b[?25hCollecting h11<0.10,>=0.8 (from httpcore==0.9.*->httpx==0.13.3->googletrans->-r requirements.txt (line 3))\n",
            "  Downloading h11-0.9.0-py2.py3-none-any.whl (53 kB)\n",
            "\u001b[2K     \u001b[90m━━━━━━━━━━━━━━━━━━━━━━━━━━━━━━━━━━━━━━━━\u001b[0m \u001b[32m53.6/53.6 kB\u001b[0m \u001b[31m4.6 MB/s\u001b[0m eta \u001b[36m0:00:00\u001b[0m\n",
            "\u001b[?25hCollecting h2==3.* (from httpcore==0.9.*->httpx==0.13.3->googletrans->-r requirements.txt (line 3))\n",
            "  Downloading h2-3.2.0-py2.py3-none-any.whl (65 kB)\n",
            "\u001b[2K     \u001b[90m━━━━━━━━━━━━━━━━━━━━━━━━━━━━━━━━━━━━━━━━\u001b[0m \u001b[32m65.0/65.0 kB\u001b[0m \u001b[31m6.7 MB/s\u001b[0m eta \u001b[36m0:00:00\u001b[0m\n",
            "\u001b[?25hCollecting hyperframe<6,>=5.2.0 (from h2==3.*->httpcore==0.9.*->httpx==0.13.3->googletrans->-r requirements.txt (line 3))\n",
            "  Downloading hyperframe-5.2.0-py2.py3-none-any.whl (12 kB)\n",
            "Collecting hpack<4,>=3.0 (from h2==3.*->httpcore==0.9.*->httpx==0.13.3->googletrans->-r requirements.txt (line 3))\n",
            "  Downloading hpack-3.0.0-py2.py3-none-any.whl (38 kB)\n",
            "Requirement already satisfied: six in /usr/local/lib/python3.10/dist-packages (from langdetect->-r requirements.txt (line 4)) (1.16.0)\n",
            "Requirement already satisfied: scipy>=1.3.2 in /usr/local/lib/python3.10/dist-packages (from scikit-learn>=0.21.3->seqeval->-r requirements.txt (line 1)) (1.11.4)\n",
            "Requirement already satisfied: joblib>=1.1.1 in /usr/local/lib/python3.10/dist-packages (from scikit-learn>=0.21.3->seqeval->-r requirements.txt (line 1)) (1.3.2)\n",
            "Requirement already satisfied: threadpoolctl>=2.0.0 in /usr/local/lib/python3.10/dist-packages (from scikit-learn>=0.21.3->seqeval->-r requirements.txt (line 1)) (3.3.0)\n",
            "Building wheels for collected packages: seqeval, googletrans, langdetect\n",
            "  Building wheel for seqeval (setup.py) ... \u001b[?25l\u001b[?25hdone\n",
            "  Created wheel for seqeval: filename=seqeval-1.2.2-py3-none-any.whl size=16161 sha256=9fe058b8fb26542952be6c2d622fde7d767b455b40ce773654f274609dac5d4a\n",
            "  Stored in directory: /root/.cache/pip/wheels/1a/67/4a/ad4082dd7dfc30f2abfe4d80a2ed5926a506eb8a972b4767fa\n",
            "  Building wheel for googletrans (setup.py) ... \u001b[?25l\u001b[?25hdone\n",
            "  Created wheel for googletrans: filename=googletrans-3.0.0-py3-none-any.whl size=15718 sha256=bb7fc4ab9bf1babc4a61e5a36bed6121a6672c1834c9bcf956990b2398a70f5d\n",
            "  Stored in directory: /root/.cache/pip/wheels/b3/81/ea/8b030407f8ebfc2f857814e086bb22ca2d4fea1a7be63652ab\n",
            "  Building wheel for langdetect (setup.py) ... \u001b[?25l\u001b[?25hdone\n",
            "  Created wheel for langdetect: filename=langdetect-1.0.9-py3-none-any.whl size=993227 sha256=65473b9bdb715b0b94fd793427243c46234a3769c85c2d081841366620126e3b\n",
            "  Stored in directory: /root/.cache/pip/wheels/95/03/7d/59ea870c70ce4e5a370638b5462a7711ab78fba2f655d05106\n",
            "Successfully built seqeval googletrans langdetect\n",
            "Installing collected packages: rfc3986, hyperframe, hpack, h11, chardet, langdetect, idna, hstspreload, h2, conllu, httpcore, seqeval, httpx, googletrans\n",
            "  Attempting uninstall: chardet\n",
            "    Found existing installation: chardet 5.2.0\n",
            "    Uninstalling chardet-5.2.0:\n",
            "      Successfully uninstalled chardet-5.2.0\n",
            "  Attempting uninstall: idna\n",
            "    Found existing installation: idna 3.6\n",
            "    Uninstalling idna-3.6:\n",
            "      Successfully uninstalled idna-3.6\n",
            "Successfully installed chardet-3.0.4 conllu-4.5.3 googletrans-3.0.0 h11-0.9.0 h2-3.2.0 hpack-3.0.0 hstspreload-2024.3.1 httpcore-0.9.1 httpx-0.13.3 hyperframe-5.2.0 idna-2.10 langdetect-1.0.9 rfc3986-1.5.0 seqeval-1.2.2\n"
          ]
        },
        {
          "output_type": "display_data",
          "data": {
            "application/vnd.colab-display-data+json": {
              "pip_warning": {
                "packages": [
                  "chardet",
                  "idna"
                ]
              },
              "id": "bf7e9fd163034b3daa1aa4572dfd9cf3"
            }
          },
          "metadata": {}
        },
        {
          "output_type": "stream",
          "name": "stdout",
          "text": [
            "everything set up!\n"
          ]
        }
      ],
      "source": [
        "!pip install git+https://github.com/huggingface/accelerate\n",
        "!pip install transformers\n",
        "!pip install -U -q PyDrive\n",
        "\n",
        "from pydrive.auth import GoogleAuth\n",
        "from pydrive.drive import GoogleDrive\n",
        "from google.colab import auth\n",
        "from oauth2client.client import GoogleCredentials\n",
        "# Authenticate and create the PyDrive client.\n",
        "auth.authenticate_user()\n",
        "gauth = GoogleAuth()\n",
        "gauth.credentials = GoogleCredentials.get_application_default()\n",
        "drive = GoogleDrive(gauth)\n",
        "print('success!')\n",
        "\n",
        "import os\n",
        "import zipfile\n",
        "\n",
        "data_file = drive.CreateFile({'id': '1zeo8FcaNUnhN660mGMNEAPvxOE4DPOnE'})\n",
        "data_file.GetContentFile('hw1.zip')\n",
        "\n",
        "# Extract data from the zipfile and put it into the current directory\n",
        "with zipfile.ZipFile('hw1.zip', 'r') as zip_file:\n",
        "    zip_file.extractall('./')\n",
        "os.remove('hw1.zip')\n",
        "# We will use hw1 as our working directory\n",
        "os.chdir('hw1')\n",
        "print(\"Data and supporting code downloaded!\")\n",
        "\n",
        "pretrained_models_dir = './pretrained_models_dir'\n",
        "if not os.path.isdir(pretrained_models_dir):\n",
        "  os.mkdir(pretrained_models_dir)   # directory to save pretrained models\n",
        "print('model directory created')\n",
        "\n",
        "!pip install -r requirements.txt\n",
        "print('everything set up!')"
      ]
    },
    {
      "cell_type": "markdown",
      "metadata": {
        "id": "3FUlg1zhutFJ"
      },
      "source": [
        "With the advent of methods such as `BERT` [(Devlin et al., 2019)](https://arxiv.org/pdf/1810.04805.pdf), the dominant paradigm for developing NLP models has shifted to transfer learning: first, pretrain a large language model on large amounts of unlabeled data, and then fine-tune the resulting model on the downstream target task. In this section, we will use `BERT` to solve downstream target tasks across several classes of problems, including classification, question answering, and sequence labeling."
      ]
    },
    {
      "cell_type": "markdown",
      "metadata": {
        "id": "4_ZM8bTI-HNP"
      },
      "source": [
        "### Question 2.1 (25 points)\n",
        "Before diving into the practical applications, let's first ensure your foundational knowledge is solid. Please answer the following questions briefly, aiming for two or three sentences each. This exercise is designed to prime your understanding of the transformative technologies we're exploring, and making sure you're well-prepared for the hands-on challenges ahead.\n",
        "\n",
        "\n",
        "**A) Describe the role of the attention mechanism within BERT. How does the multi-head attention mechanism enable BERT to process different parts of the input data simultaneously, and why is this beneficial for natural language understanding tasks?**\n",
        "\n",
        "**B) Describe how BERT's bidirectionality is different from traditional sequential language models.**\n",
        "\n",
        "**C) What is segment embedding's functionality in BERT?**\n",
        "\n",
        "**D) Briefly describe one variant of BERT (e.g., RoBERTa, ALBERT, DistilBERT) and highlight a key difference in its approach or architecture compared to the original BERT model.**\n",
        "\n",
        "**E) Despite its success, BERT has limitations. Can you identify one limitation or challenge associated with using BERT for NLP tasks?**\n"
      ]
    },
    {
      "cell_type": "markdown",
      "metadata": {
        "id": "OVJL9B73ASsm"
      },
      "source": [
        "A.\n",
        "attention layers are 3 shared weighted matrices named Wk, Wq, Wv.\n",
        "and for each word ( query ) we can calculate its attention to other words by calculating the dot product of query and key ( query = word1 . wq and key = word2 . wk ).\n",
        "each attention head is responsible for a certain pattern in text, for example finding named entities. and because these heads are independent of each other, they can run simultaneously.\n",
        "and this mechanism helps the models to have a better understanding of language.\n",
        "\n",
        "B.\n",
        "traditional sequential language models like RNNs or LSTMs were only able to read the text from left to right or right to left, in contrast BERT can do this in both directions simultaneously.\n",
        "and it uses attention layers to update the representation of each word occording to its context, however in RNN/LSTM models, the whole sentence would be represented in a single vector that can limit the possibilities.\n",
        "\n",
        "C.\n",
        "its necessary for sentence separation for the model to understand that each token is for which sentence ( and in BERT, its 0 or 1 ). and for tasks like next sentence prediction ( one sentence is followed by another or not ) these embeddings are important.\n",
        "\n",
        "D.\n",
        "in RoBERTa, it uses larger batch sizes, and more training data in the pre-training.\n",
        "it uses dynamic masking, which for a single sentence, the MASK tokens are still placed randomly, but in BERT the MASK tokens were fixed for the whole training process for a certain sentence.\n",
        "the next sentence prediction ( NSP ) task was removed from its pre-training objective and it got trained focusing on mask language modeling ( MLM ) objective.\n",
        "\n",
        "E.\n",
        "for fine-tuning on multiple tasks, we need to fine-tune the model for each task independently and add a separate head for different classification tasks, and its not good for text generation.\n",
        "which these problems were fixed ( almost ) in T5 model which is a text-to-text model and can do multiple tasks."
      ]
    },
    {
      "cell_type": "markdown",
      "metadata": {
        "id": "TpqiH9gP2x4N"
      },
      "source": [
        "After answering the above questions, let's run the cell below to import necessary packages and set some things up for fine-tuning `BERT`."
      ]
    },
    {
      "cell_type": "code",
      "execution_count": 2,
      "metadata": {
        "id": "7kDEdMvq9tCr",
        "colab": {
          "base_uri": "https://localhost:8080/"
        },
        "outputId": "175df693-9dda-4893-8a3a-a4f7d1b7dd2c"
      },
      "outputs": [
        {
          "output_type": "stream",
          "name": "stdout",
          "text": [
            "setup complete\n"
          ]
        }
      ],
      "source": [
        "# coding=utf-8\n",
        "\n",
        "import dataclasses\n",
        "import logging\n",
        "import math\n",
        "import os\n",
        "import timeit\n",
        "from dataclasses import dataclass, field\n",
        "from typing import Callable, Dict, List, Tuple, Optional\n",
        "\n",
        "import numpy as np\n",
        "from seqeval.metrics import accuracy_score, f1_score, precision_score, recall_score\n",
        "import torch\n",
        "from torch.utils.data import DataLoader, SequentialSampler\n",
        "from tqdm import tqdm\n",
        "\n",
        "from transformers import (\n",
        "    AutoConfig,\n",
        "    AutoModelWithLMHead,\n",
        "    AutoModelForSequenceClassification,\n",
        "    AutoModelForQuestionAnswering,\n",
        "    AutoModelForTokenClassification,\n",
        "    AutoTokenizer,\n",
        "    PreTrainedTokenizer,\n",
        "    EvalPrediction\n",
        ")\n",
        "from transformers import (\n",
        "    GlueDataset,\n",
        "    SquadDataset,\n",
        "    LineByLineTextDataset,\n",
        "    TextDataset,\n",
        "    DataCollatorForLanguageModeling,\n",
        ")\n",
        "from transformers import GlueDataTrainingArguments, SquadDataTrainingArguments\n",
        "from transformers import (\n",
        "    Trainer,\n",
        "    TrainingArguments,\n",
        "    glue_compute_metrics,\n",
        "    glue_output_modes,\n",
        "    glue_tasks_num_labels,\n",
        "    set_seed,\n",
        ")\n",
        "from transformers.data.processors.squad import SquadResult\n",
        "from transformers.data.metrics.squad_metrics import (\n",
        "    compute_predictions_logits,\n",
        "    squad_evaluate,\n",
        ")\n",
        "from tasks import NER\n",
        "from utils_ner import Split, TokenClassificationDataset, TokenClassificationTask\n",
        "\n",
        "from transformers import glue_processors\n",
        "from transformers.data.processors.utils import InputExample\n",
        "from langdetect import detect\n",
        "\n",
        "logger = logging.getLogger(__name__)\n",
        "\n",
        "\n",
        "@dataclass\n",
        "class ModelArguments:\n",
        "    \"\"\"\n",
        "    Arguments pertaining to which model/config/tokenizer we are going to fine-tune from.\n",
        "    \"\"\"\n",
        "    model_type: str = field(\n",
        "        default=\"bert\",\n",
        "        metadata={\"help\": \"Model type, e.g., bert.\"}\n",
        "    )\n",
        "    model_name_or_path: str = field(\n",
        "        default=\"bert\",\n",
        "        metadata={\"help\": \"Path to pretrained model or model identifier from huggingface.co/models.\"}\n",
        "    )\n",
        "    do_lower_case: Optional[bool] = field(\n",
        "        default=False,\n",
        "        metadata={\"help\": \"Whether you want to do lower case on input before tokenization.\"}\n",
        "    )\n",
        "    model_cache_dir: Optional[str] = field(\n",
        "        default=None,\n",
        "        metadata={\"help\": \"Where you want to store the pretrained models downloaded from s3.\"}\n",
        "    )\n",
        "    data_cache_dir: Optional[str] = field(\n",
        "        default=None,\n",
        "        metadata={\"help\": \"Where you want to store the cached features for the task.\"}\n",
        "    )\n",
        "\n",
        "\n",
        "@dataclass\n",
        "class NerDataTrainingArguments:\n",
        "    \"\"\"\n",
        "    Arguments pertaining to what data we are going to input our model for training and eval.\n",
        "    \"\"\"\n",
        "\n",
        "    data_dir: str = field(\n",
        "        metadata={\"help\": \"The input data dir. Should contain data files for the task.\"}\n",
        "    )\n",
        "    labels: Optional[str] = field(\n",
        "        default=None,\n",
        "        metadata={\"help\": \"Path to a file containing all labels for the task.\"},\n",
        "    )\n",
        "    max_seq_length: int = field(\n",
        "        default=128,\n",
        "        metadata={\n",
        "            \"help\": \"The maximum total input sequence length after tokenization. Sequences longer \"\n",
        "            \"than this will be truncated, sequences shorter will be padded.\"\n",
        "        },\n",
        "    )\n",
        "    overwrite_cache: bool = field(\n",
        "        default=False, metadata={\"help\": \"Overwrite the cached training and evaluation sets.\"}\n",
        "    )\n",
        "\n",
        "\n",
        "@dataclass\n",
        "class LMDataTrainingArguments:\n",
        "    \"\"\"\n",
        "    Arguments pertaining to what data we are going to input our model for training and eval.\n",
        "    \"\"\"\n",
        "\n",
        "    train_data_file: Optional[str] = field(\n",
        "        default=None, metadata={\"help\": \"The input training data file (a text file).\"}\n",
        "    )\n",
        "    eval_data_file: Optional[str] = field(\n",
        "        default=None,\n",
        "        metadata={\"help\": \"An optional input evaluation data file to evaluate the perplexity on (a text file).\"},\n",
        "    )\n",
        "    line_by_line: bool = field(\n",
        "        default=False,\n",
        "        metadata={\"help\": \"Whether distinct lines of text in the dataset are to be handled as distinct sequences.\"},\n",
        "    )\n",
        "\n",
        "    mlm: bool = field(\n",
        "        default=False, metadata={\"help\": \"Train with masked-language modeling loss instead of language modeling.\"}\n",
        "    )\n",
        "    mlm_probability: float = field(\n",
        "        default=0.15, metadata={\"help\": \"Ratio of tokens to mask for masked language modeling loss\"}\n",
        "    )\n",
        "    block_size: int = field(\n",
        "        default=-1,\n",
        "        metadata={\n",
        "            \"help\": \"Optional input sequence length after tokenization.\"\n",
        "            \"The training dataset will be truncated in block of this size for training.\"\n",
        "            \"Default to the model max input length for single sentence inputs (take into account special tokens).\"\n",
        "        },\n",
        "    )\n",
        "    overwrite_cache: bool = field(\n",
        "        default=False, metadata={\"help\": \"Overwrite the cached training and evaluation sets\"}\n",
        "    )\n",
        "\n",
        "\n",
        "def get_dataset(\n",
        "    args: LMDataTrainingArguments,\n",
        "    tokenizer: PreTrainedTokenizer,\n",
        "    evaluate: bool = False,\n",
        "    cache_dir: Optional[str] = None,\n",
        "):\n",
        "    file_path = args.eval_data_file if evaluate else args.train_data_file\n",
        "    if args.line_by_line:\n",
        "        return LineByLineTextDataset(tokenizer=tokenizer, file_path=file_path, block_size=args.block_size)\n",
        "    else:\n",
        "        return TextDataset(\n",
        "            tokenizer=tokenizer,\n",
        "            file_path=file_path,\n",
        "            block_size=args.block_size,\n",
        "            overwrite_cache=args.overwrite_cache,\n",
        "            cache_dir=cache_dir,\n",
        "        )\n",
        "\n",
        "\n",
        "DATA_TRAINING_ARGUMENTS = {\n",
        "    \"text_classification\": GlueDataTrainingArguments,\n",
        "    \"question_answering\": SquadDataTrainingArguments,\n",
        "    \"sequence_labeling\": NerDataTrainingArguments,\n",
        "}\n",
        "\n",
        "\n",
        "AUTO_MODEL = {\n",
        "    \"text_classification\": AutoModelForSequenceClassification,\n",
        "    \"question_answering\": AutoModelForQuestionAnswering,\n",
        "    \"sequence_labeling\": AutoModelForTokenClassification,\n",
        "}\n",
        "\n",
        "\n",
        "DATASET = {\n",
        "    \"text_classification\": GlueDataset,\n",
        "    \"question_answering\": SquadDataset,\n",
        "    \"sequence_labeling\": TokenClassificationDataset,\n",
        "}\n",
        "\n",
        "\n",
        "# some functions for fine-tuning BERT on a downstream target task\n",
        "def do_target_task_finetuning(model_name_or_path, task_type, output_dir, **kwargs):\n",
        "    r\"\"\" Fine-tuning BERT on a downstream target task.\n",
        "    Params:\n",
        "        **model_name_or_path**: either:\n",
        "            - a string with the `shortcut name` of a pre-trained model configuration to load from cache\n",
        "                or download and cache if not already stored in cache (e.g. 'bert-base-uncased').\n",
        "            - a path to a `directory` containing a configuration file saved\n",
        "                using the `save_pretrained(save_directory)` method.\n",
        "            - a path or url to a saved configuration `file`.\n",
        "        **task_type**: string:\n",
        "            The class of the task to train, selected in\n",
        "            [\"text_classification\", \"question_answering\", \"sequence_labeling\"].\n",
        "        **output_dir**: string:\n",
        "            The output directory where the model predictions and checkpoints will be written.\n",
        "        **kwargs**: (`optional`) dict:\n",
        "            Dictionary of key/value pairs with which to update the configuration object after loading.\n",
        "            - The values in kwargs of any keys which are configuration attributes will be used\n",
        "            to override the loaded values.\n",
        "    \"\"\"\n",
        "    # See all possible arguments in src/transformers/training_args.py\n",
        "\n",
        "    assert task_type in DATA_TRAINING_ARGUMENTS\n",
        "    model_args = ModelArguments(model_name_or_path=model_name_or_path)\n",
        "    data_args_params = {}\n",
        "    for param in [\"task_name\", \"data_dir\"]:\n",
        "        if param in kwargs:\n",
        "            data_args_params.update({param: kwargs[param]})\n",
        "\n",
        "    data_args = DATA_TRAINING_ARGUMENTS[task_type](**data_args_params)\n",
        "    training_args = TrainingArguments(output_dir=output_dir)\n",
        "\n",
        "    # override the loaded configs\n",
        "    configs = (model_args, data_args, training_args)\n",
        "    for config in configs:\n",
        "        for key, value in kwargs.items():\n",
        "            if hasattr(config, key):\n",
        "                setattr(config, key, value)\n",
        "\n",
        "    if (\n",
        "        os.path.exists(training_args.output_dir)\n",
        "        and os.listdir(training_args.output_dir)\n",
        "        and training_args.do_train\n",
        "        and not training_args.overwrite_output_dir\n",
        "    ):\n",
        "        raise ValueError(\n",
        "            f\"Output directory ({training_args.output_dir}) already exists and is not empty. \"\n",
        "            f\"Use --overwrite_output_dir to overcome.\"\n",
        "        )\n",
        "\n",
        "    for p in [model_args.model_cache_dir, model_args.data_cache_dir, training_args.output_dir]:\n",
        "        if not os.path.exists(p):\n",
        "            os.makedirs(p)\n",
        "\n",
        "    # Setup logging\n",
        "    logging.basicConfig(\n",
        "        format=\"%(asctime)s - %(levelname)s - %(name)s -   %(message)s\",\n",
        "        datefmt=\"%m/%d/%Y %H:%M:%S\",\n",
        "        level=logging.INFO,\n",
        "    )\n",
        "\n",
        "    logger.info(\"Process device: %s, n_gpu: %s\", training_args.device, training_args.n_gpu)\n",
        "    logger.info(\"Training/evaluation parameters %s\", training_args)\n",
        "\n",
        "\n",
        "    # Set seed\n",
        "    set_seed(training_args.seed)\n",
        "\n",
        "    if task_type == \"text_classification\":\n",
        "        try:\n",
        "            data_args.task_name = data_args.task_name.lower()\n",
        "            num_labels = glue_tasks_num_labels[data_args.task_name]\n",
        "            output_mode = glue_output_modes[data_args.task_name]\n",
        "        except KeyError:\n",
        "            raise ValueError(\"Task not found: %s\" % (data_args.task_name))\n",
        "    elif task_type == \"sequence_labeling\":\n",
        "        token_classification_task = NER() # You might want to this to Chunk() or POS()\n",
        "        # if you are working with a Chunk or POS task, respectively\n",
        "        labels = token_classification_task.get_labels(data_args.labels)\n",
        "        label_map: Dict[int, str] = {i: label for i, label in enumerate(labels)}\n",
        "        num_labels = len(labels)\n",
        "\n",
        "    # Load pretrained model and tokenizer\n",
        "\n",
        "    AutoModel = AUTO_MODEL[task_type]\n",
        "    auto_config_params = {\n",
        "        'pretrained_model_name_or_path': model_args.model_name_or_path,\n",
        "        'cache_dir': model_args.model_cache_dir,\n",
        "    }\n",
        "\n",
        "    if task_type == \"text_classification\":\n",
        "        auto_config_params.update({\n",
        "            \"num_labels\": num_labels,\n",
        "            \"finetuning_task\": data_args.task_name,\n",
        "        })\n",
        "    elif task_type == \"sequence_labeling\":\n",
        "        auto_config_params.update({\n",
        "            \"num_labels\": num_labels,\n",
        "            \"id2label\": label_map,\n",
        "            \"label2id\": {label: i for i, label in enumerate(labels)},\n",
        "        })\n",
        "\n",
        "    config = AutoConfig.from_pretrained(**auto_config_params)\n",
        "\n",
        "    auto_tokenizer_params = {\n",
        "        \"pretrained_model_name_or_path\": model_args.model_name_or_path,\n",
        "        \"cache_dir\": model_args.model_cache_dir,\n",
        "        \"do_lower_case\": model_args.do_lower_case,\n",
        "    }\n",
        "    tokenizer = AutoTokenizer.from_pretrained(**auto_tokenizer_params)\n",
        "\n",
        "    auto_model_params = {\n",
        "        \"pretrained_model_name_or_path\": model_args.model_name_or_path,\n",
        "        \"from_tf\": False,\n",
        "        \"config\": config,\n",
        "        \"cache_dir\": model_args.model_cache_dir,\n",
        "    }\n",
        "\n",
        "    if \"model_load_mode\" in kwargs and kwargs[\"model_load_mode\"] == \"base_model_only\":\n",
        "        WEIGHTS_NAME = \"pytorch_model.bin\"\n",
        "        archive_file = os.path.join(model_args.model_name_or_path, WEIGHTS_NAME)\n",
        "        # Use torch.load with map_location=torch.device() to map the pretrained model to our device.\n",
        "        model_state_dict = torch.load(archive_file, map_location=torch.device(training_args.device))\n",
        "\n",
        "        state_dict_with_prefix = {}\n",
        "        for key, value in model_state_dict.items():\n",
        "            if key.startswith(model_args.model_type):\n",
        "                state_dict_with_prefix[key] = value\n",
        "\n",
        "        auto_model_params.update({\"state_dict\": state_dict_with_prefix})\n",
        "\n",
        "    model = AutoModel.from_pretrained(**auto_model_params)\n",
        "\n",
        "    # Get datasets\n",
        "    Dataset = DATASET[task_type]\n",
        "    dataset_params = {\n",
        "        \"tokenizer\": tokenizer,\n",
        "    }\n",
        "    if task_type == \"sequence_labeling\":\n",
        "        dataset_params.update({\n",
        "            \"token_classification_task\": token_classification_task,\n",
        "            \"data_dir\": data_args.data_dir,\n",
        "            \"labels\": labels,\n",
        "            \"model_type\": model_args.model_type,\n",
        "            \"max_seq_length\": data_args.max_seq_length\n",
        "        })\n",
        "\n",
        "    else:\n",
        "        dataset_params.update({\n",
        "            \"args\": data_args,\n",
        "            \"cache_dir\": model_args.data_cache_dir,\n",
        "        })\n",
        "\n",
        "    train_dataset = (Dataset(**dataset_params) if training_args.do_train else None)\n",
        "\n",
        "    dataset_params.update({\"mode\": Split.dev if task_type == \"sequence_labeling\" else \"dev\"})\n",
        "    eval_dataset = (Dataset(**dataset_params) if training_args.do_eval else None)\n",
        "\n",
        "    # Initialize our Trainer\n",
        "    trainer_params = {\n",
        "        \"model\": model,\n",
        "        \"args\": training_args,\n",
        "        \"train_dataset\": train_dataset,\n",
        "        \"eval_dataset\": eval_dataset,\n",
        "    }\n",
        "    trainer = Trainer(**trainer_params)\n",
        "\n",
        "    # Training\n",
        "    if training_args.do_train:\n",
        "        trainer.train(\n",
        "            model_path=model_args.model_name_or_path if os.path.isdir(model_args.model_name_or_path) else None\n",
        "        )\n",
        "        trainer.save_model()\n",
        "        # For convenience, we also re-save the tokenizer to the same directory\n",
        "        tokenizer.save_pretrained(training_args.output_dir)\n",
        "\n",
        "    # Evaluation\n",
        "    eval_results = {}\n",
        "    if training_args.do_eval:\n",
        "        if task_type == \"text_classification\":\n",
        "            def build_compute_metrics_fn(task_name: str) -> Callable[[EvalPrediction], Dict]:\n",
        "                def compute_metrics_fn(p: EvalPrediction):\n",
        "                    if output_mode == \"classification\":\n",
        "                        preds = np.argmax(p.predictions, axis=1)\n",
        "                    elif output_mode == \"regression\":\n",
        "                        preds = np.squeeze(p.predictions)\n",
        "                    return glue_compute_metrics(task_name, preds, p.label_ids)\n",
        "                return compute_metrics_fn\n",
        "\n",
        "            logger.info(\"*** Evaluate ***\")\n",
        "            # Loop to handle MNLI double evaluation (matched, mis-matched)\n",
        "            eval_datasets = [eval_dataset]\n",
        "            if data_args.task_name == \"mnli\":\n",
        "                mnli_mm_data_args = dataclasses.replace(data_args, task_name=\"mnli-mm\")\n",
        "                eval_datasets.append(\n",
        "                    Dataset(mnli_mm_data_args, tokenizer=tokenizer, mode=\"dev\", cache_dir=model_args.data_cache_dir)\n",
        "                )\n",
        "\n",
        "            for eval_dataset in eval_datasets:\n",
        "                trainer.compute_metrics = build_compute_metrics_fn(eval_dataset.args.task_name)\n",
        "                eval_result = trainer.evaluate(eval_dataset=eval_dataset)\n",
        "\n",
        "                output_eval_file = os.path.join(training_args.output_dir, f\"eval_results.txt\")\n",
        "                with open(output_eval_file, \"w\") as writer:\n",
        "                    logger.info(\"***** Eval results *****\")\n",
        "                    for key, value in eval_result.items():\n",
        "                        logger.info(\"  %s = %s\", key, value)\n",
        "                        writer.write(\"%s = %s\\n\" % (key, value))\n",
        "\n",
        "                eval_results.update(eval_result)\n",
        "\n",
        "        elif task_type == \"question_answering\":\n",
        "            # We don't use trainer.evaluate here since it currently does not support question answering tasks\n",
        "            # (https://github.com/huggingface/transformers/issues/7032)\n",
        "            model = AutoModel.from_pretrained(model_args.model_cache_dir)\n",
        "            tokenizer = AutoTokenizer.from_pretrained(model_args.model_cache_dir, do_lower_case=model_args.do_lower_case)\n",
        "            model.to(training_args.device)\n",
        "\n",
        "\n",
        "            dataset = eval_dataset.dataset\n",
        "            examples = eval_dataset.examples\n",
        "            features = eval_dataset.features\n",
        "            eval_batch_size = training_args.per_gpu_eval_batch_size * max(1, training_args.n_gpu)\n",
        "\n",
        "            eval_sampler = SequentialSampler(dataset)\n",
        "            eval_dataloader = DataLoader(dataset, sampler=eval_sampler, batch_size=eval_batch_size)\n",
        "\n",
        "            logger.info(\"*** Evaluate ***\")\n",
        "            description = \"Evaluation\"\n",
        "            logger.info(\"***** Running %s *****\", description)\n",
        "            logger.info(\"  Num examples = %d\", len(dataset))\n",
        "            logger.info(\"  Batch size = %d\", eval_batch_size)\n",
        "\n",
        "            all_results = []\n",
        "            start_time = timeit.default_timer()\n",
        "\n",
        "            for batch in tqdm(eval_dataloader, desc=description):\n",
        "                model.eval()\n",
        "                batch = tuple(t.to(training_args.device) for t in batch)\n",
        "\n",
        "                with torch.no_grad():\n",
        "                    inputs = {\n",
        "                        \"input_ids\": batch[0],\n",
        "                        \"attention_mask\": batch[1],\n",
        "                        \"token_type_ids\": batch[2],\n",
        "                    }\n",
        "                    feature_indices = batch[3]\n",
        "                    outputs = model(**inputs)\n",
        "\n",
        "                for i, feature_index in enumerate(feature_indices):\n",
        "                    eval_feature = features[feature_index.item()]\n",
        "                    unique_id = int(eval_feature.unique_id)\n",
        "                    output = [output[i].detach().cpu().tolist() for output in outputs]\n",
        "                    start_logits, end_logits = output\n",
        "                    result = SquadResult(unique_id, start_logits, end_logits)\n",
        "                    all_results.append(result)\n",
        "\n",
        "            evalTime = timeit.default_timer() - start_time\n",
        "            logger.info(\"  Evaluation done in total %f secs (%f sec per example)\", evalTime, evalTime / len(dataset))\n",
        "\n",
        "            # Compute predictions\n",
        "            output_prediction_file = os.path.join(training_args.output_dir, \"predictions.json\")\n",
        "            output_nbest_file = os.path.join(training_args.output_dir, \"nbest_predictions.json\")\n",
        "\n",
        "            output_null_log_odds_file = os.path.join(training_args.output_dir, \"null_odds.json\") \\\n",
        "                if data_args.version_2_with_negative else None\n",
        "\n",
        "            predictions = compute_predictions_logits(\n",
        "                all_examples=examples,\n",
        "                all_features=features,\n",
        "                all_results=all_results,\n",
        "                n_best_size=data_args.n_best_size,\n",
        "                max_answer_length=data_args.max_answer_length,\n",
        "                do_lower_case=model_args.do_lower_case,\n",
        "                output_prediction_file=output_prediction_file,\n",
        "                output_nbest_file=output_nbest_file,\n",
        "                output_null_log_odds_file=output_null_log_odds_file,\n",
        "                verbose_logging=False,\n",
        "                version_2_with_negative=data_args.version_2_with_negative,\n",
        "                null_score_diff_threshold=data_args.null_score_diff_threshold,\n",
        "                tokenizer=tokenizer,\n",
        "            )\n",
        "\n",
        "            # Compute the F1 and exact scores.\n",
        "            eval_result = squad_evaluate(examples, predictions)\n",
        "\n",
        "            output_eval_file = os.path.join(training_args.output_dir, f\"eval_results.txt\")\n",
        "            with open(output_eval_file, \"w\") as writer:\n",
        "                logger.info(\"***** Eval results *****\")\n",
        "                for key, value in eval_result.items():\n",
        "                    logger.info(\"  %s = %s\", key, value)\n",
        "                    writer.write(\"%s = %s\\n\" % (key, value))\n",
        "\n",
        "            eval_results.update(eval_result)\n",
        "\n",
        "\n",
        "        elif task_type == \"sequence_labeling\":\n",
        "            def align_predictions(predictions: np.ndarray, label_ids: np.ndarray) -> Tuple[List[int], List[int]]:\n",
        "                preds = np.argmax(predictions, axis=2)\n",
        "                batch_size, seq_len = preds.shape\n",
        "                label_list = [[] for _ in range(batch_size)]\n",
        "                pred_list = [[] for _ in range(batch_size)]\n",
        "\n",
        "                for i in range(batch_size):\n",
        "                    for j in range(seq_len):\n",
        "                        if label_ids[i, j] != torch.nn.CrossEntropyLoss().ignore_index:\n",
        "                            label_list[i].append(label_map[label_ids[i][j]])\n",
        "                            pred_list[i].append(label_map[preds[i][j]])\n",
        "                return pred_list, label_list\n",
        "\n",
        "            def compute_metrics_fn(p: EvalPrediction) -> Dict:\n",
        "                pred_list, label_list = align_predictions(p.predictions, p.label_ids)\n",
        "                return {\n",
        "                    \"accuracy_score\": accuracy_score(label_list, pred_list),\n",
        "                    \"precision\": precision_score(label_list, pred_list),\n",
        "                    \"recall\": recall_score(label_list, pred_list),\n",
        "                    \"f1\": f1_score(label_list, pred_list),\n",
        "                }\n",
        "\n",
        "            trainer.compute_metrics = compute_metrics_fn\n",
        "            eval_result = trainer.evaluate(eval_dataset=eval_dataset)\n",
        "\n",
        "            output_eval_file = os.path.join(training_args.output_dir, f\"eval_results.txt\")\n",
        "            with open(output_eval_file, \"w\") as writer:\n",
        "                logger.info(\"***** Eval results *****\")\n",
        "                for key, value in eval_result.items():\n",
        "                    logger.info(\"  %s = %s\", key, value)\n",
        "                    writer.write(\"%s = %s\\n\" % (key, value))\n",
        "\n",
        "            eval_results.update(eval_result)\n",
        "\n",
        "        else:\n",
        "            raise ValueError(\"Invalid task type.\")\n",
        "    return eval_results\n",
        "\n",
        "\n",
        "print('setup complete')"
      ]
    },
    {
      "cell_type": "markdown",
      "metadata": {
        "id": "oZtW1UaFutFK"
      },
      "source": [
        "## Fine-tuning BERT for text classification\n",
        "Now, let's use `BERT` to solve a sentiment classification task. Specifically, we'll be using the Stanford Sentiment Treebank [(Socher et al., 2013)](https://nlp.stanford.edu/~socherr/EMNLP2013_RNTN.pdf), which was constructed from movie reviews data. We provide code to fine-tune BERT in a separate [\"useful code\" Colab notebook](https://colab.research.google.com/drive/1nJWA9rPkPrjjjtwN_vKUSQoomdfWLAFV?usp=sharing), so check that out if you're interested. However, since training on the full `SST` dataset (67K examples) takes a while, we provide you with a fine-tuned model to save time. Run the following cell to download the model.\n",
        "\n"
      ]
    },
    {
      "cell_type": "code",
      "source": [
        "data_file = drive.CreateFile({'id': '1ZJ1_gWahH_OOBIrRm0aN9i8nvLB2olZC'})\n",
        "data_file.GetContentFile('bert-base-cased-finetuned-sst.zip')\n",
        "\n",
        "# Extract the data from the zipfile and put it into pretrained_models_dir\n",
        "with zipfile.ZipFile('bert-base-cased-finetuned-sst.zip', 'r') as zip_file:\n",
        "    zip_file.extractall(pretrained_models_dir)\n",
        "os.remove('bert-base-cased-finetuned-sst.zip')\n",
        "print(\"bert-base-cased-finetuned-sst downloaded!\")"
      ],
      "metadata": {
        "id": "2-48fUgg9pq-",
        "colab": {
          "base_uri": "https://localhost:8080/"
        },
        "outputId": "5e4aa423-d903-4a0b-d0c3-7ff1cb553ce8"
      },
      "execution_count": 3,
      "outputs": [
        {
          "output_type": "stream",
          "name": "stdout",
          "text": [
            "bert-base-cased-finetuned-sst downloaded!\n"
          ]
        }
      ]
    },
    {
      "cell_type": "markdown",
      "metadata": {
        "id": "xclcTv-1utFK"
      },
      "source": [
        "### Question 2.2 (5 points)\n",
        "Let's use the trained model to predict the sentiment of a given sentence. We will make a few predictions in the code below. Your task is to complete the code to print out the model's predicted probability distribution for each sentence.\n",
        "\n",
        "*Hint:*\n",
        "\n",
        "*   `model(inputs)[0]` gives you the logits of the model for `inputs`."
      ]
    },
    {
      "cell_type": "code",
      "execution_count": 4,
      "metadata": {
        "colab": {
          "base_uri": "https://localhost:8080/"
        },
        "id": "hSHrBverutFK",
        "outputId": "4b200b50-8cb3-4cba-912d-22f9fe12a843"
      },
      "outputs": [
        {
          "output_type": "stream",
          "name": "stdout",
          "text": [
            "Probability distribution for sentence 1: [[0.0011133856605738401, 0.9988866448402405]]\n",
            "Probability distribution for sentence 2: [[0.9978280663490295, 0.002171869855374098]]\n"
          ]
        }
      ],
      "source": [
        "\n",
        "# Load the trained model and make a few predictions\n",
        "model_name_or_path = \"bert-base-cased-finetuned-sst\"\n",
        "pretrained_weights = os.path.join(pretrained_models_dir, model_name_or_path)\n",
        "task_type = \"text_classification\"\n",
        "model = AUTO_MODEL[task_type].from_pretrained(pretrained_weights)\n",
        "tokenizer = AutoTokenizer.from_pretrained(pretrained_weights)\n",
        "\n",
        "classes = [\"negative\", \"positive\"]\n",
        "\n",
        "sentence_1 = \"the movie has something interesting to say\"\n",
        "sentence_2 = \"it was so awful that i walked out after 30 minutes :(\"\n",
        "\n",
        "inputs_1 = tokenizer.encode(sentence_1, add_special_tokens=True, return_tensors=\"pt\")\n",
        "inputs_2 = tokenizer.encode(sentence_2, add_special_tokens=True, return_tensors=\"pt\")\n",
        "\n",
        "logits1 = model(inputs_1)[0]\n",
        "logits2 = model(inputs_2)[0]\n",
        "\n",
        "probability_distribution1 = torch.softmax(logits1, dim=1).tolist()\n",
        "probability_distribution2 = torch.softmax(logits2, dim=1).tolist()\n",
        "\n",
        "print(f'Probability distribution for sentence 1: {probability_distribution1}')\n",
        "print(f'Probability distribution for sentence 2: {probability_distribution2}')\n"
      ]
    },
    {
      "cell_type": "markdown",
      "metadata": {
        "id": "mUqh34RUutFK"
      },
      "source": [
        "### Question 2.3 (5 points)\n",
        "Come up with a new sentence that the model gets wrong. The sentence must contain some sentiment (i.e., it cannot be neutral), and the model should place a higher probability on the wrong label than the correct one. Show the model's prediction on this new sentence."
      ]
    },
    {
      "cell_type": "code",
      "execution_count": 5,
      "metadata": {
        "colab": {
          "base_uri": "https://localhost:8080/"
        },
        "id": "n6Cw-L57utFL",
        "outputId": "53ea17d5-6fc1-49c1-f64d-0d0ab7597e4e"
      },
      "outputs": [
        {
          "output_type": "stream",
          "name": "stdout",
          "text": [
            "your sentence: \"Its not recommended. its good but pricey.\"\n",
            "ground-truth label: negative\n",
            "predicted negative prob: 0.39\n",
            "predicted positive prob: 0.61\n"
          ]
        }
      ],
      "source": [
        "your_sentence = 'Its not recommended. its good but pricey.'\n",
        "your_sentence_sentiment = 'negative'\n",
        "\n",
        "tokenized_sentence = tokenizer.encode(your_sentence, add_special_tokens=True, return_tensors=\"pt\")\n",
        "\n",
        "model_logits = model(tokenized_sentence)[0]\n",
        "your_model_prediction = torch.softmax(model_logits, dim=1).tolist()[0]\n",
        "\n",
        "\n",
        "print('your sentence: \"%s\"\\nground-truth label: %s\\npredicted negative prob: %0.2f\\npredicted positive prob: %0.2f'\\\n",
        "      % (your_sentence, your_sentence_sentiment, your_model_prediction[0], your_model_prediction[1]))"
      ]
    },
    {
      "cell_type": "markdown",
      "metadata": {
        "id": "oGLfZvTyutFL"
      },
      "source": [
        "### Question 2.4 (5 points)\n",
        "Provide a reasonable explanation as to why the model got your sentence wrong. Also provide a plausible method to improve the underlying sentiment model so that this kind of error stops happening."
      ]
    },
    {
      "cell_type": "markdown",
      "metadata": {
        "id": "0vJjRBwbutFL"
      },
      "source": [
        "The sentence is ambiguous for models like BERT because it has a mix sentiment of positive and negative ( but yea its obviously not hard for humans ).\n",
        "also, these models can struggle with sarcasm, irony, or subtle sentiment shifts.\n",
        "\n",
        "for improving the model, we can change the architecture. using a different variation BERT ( Large, RoBERTa, ... ) or another model like T5, LLaMa.\n",
        "\n",
        "or we can finetune the BERT model for this specific task to improve performance."
      ]
    },
    {
      "cell_type": "markdown",
      "metadata": {
        "id": "rklqmQilutFL"
      },
      "source": [
        "## Fine-tuning BERT for question answering\n",
        "In this section, we will use `BERT` for a question answering task, i.e., `SQuAD` [(Rajpurkar et al., 2016)](https://nlp.stanford.edu/pubs/rajpurkar2016squad.pdf) whose dataset was built from Wikipedia. Training on the full `SQuAD` dataset (108K examples) would takes a couple of hours, so we will provide you with a trained model to save your time. Run the following cell to download the model."
      ]
    },
    {
      "cell_type": "code",
      "execution_count": 6,
      "metadata": {
        "colab": {
          "base_uri": "https://localhost:8080/"
        },
        "id": "Qipe-8J7utFL",
        "outputId": "8b8367c3-b756-4b83-8bab-175a8cfb6fae"
      },
      "outputs": [
        {
          "output_type": "stream",
          "name": "stdout",
          "text": [
            "bert-base-cased-finetuned-squad downloaded!\n"
          ]
        }
      ],
      "source": [
        "data_file = drive.CreateFile({'id': '19cnGSN88KlRJRcIqwxw3C4ylJftdkZ2W'})\n",
        "data_file.GetContentFile('bert-base-cased-finetuned-squad.zip')\n",
        "\n",
        "# Extract the data from the zipfile and put it into pretrained_models_dir\n",
        "with zipfile.ZipFile('bert-base-cased-finetuned-squad.zip', 'r') as zip_file:\n",
        "    zip_file.extractall(pretrained_models_dir)\n",
        "os.remove('bert-base-cased-finetuned-squad.zip')\n",
        "print(\"bert-base-cased-finetuned-squad downloaded!\")"
      ]
    },
    {
      "cell_type": "markdown",
      "metadata": {
        "id": "dFMZCj3putFL"
      },
      "source": [
        "### Question 2.5 (10 points)\n",
        "\n",
        "Okay, same drill as before! Your task is to complete the code to show the model's predicted answer to each question. If you forgot how `BERT` solves extractive question answering tasks, check out Section 4.2 and Figure 1 / Figure 4c) in the [BERT paper](https://arxiv.org/pdf/1810.04805.pdf). Your output should be three strings, each corresponding to the answer of one of the three given questions.\n",
        "\n",
        "*Hints*\n",
        "\n",
        "*   `model(**inputs)]` gives you the start and end logits of the model for  `inputs`.\n",
        "*   Use `tokenizer.convert_tokens_to_string` to convert a sequence of tokens (string) into a single string.\n",
        "*   Use `tokenizer.convert_ids_to_tokens` to convert a sequence of indices into a sequence of tokens."
      ]
    },
    {
      "cell_type": "code",
      "source": [
        "def find_answer_for_question(logits, input_ids, question, tokenizer):\n",
        "    start_logits = logits['start_logits']\n",
        "    end_logits = logits['end_logits']\n",
        "\n",
        "    start_index = torch.argmax(start_logits)\n",
        "    end_index = torch.argmax(end_logits)\n",
        "\n",
        "    answer_tokens = input_ids[start_index:end_index+1]\n",
        "\n",
        "    answer = tokenizer.decode(answer_tokens)\n",
        "\n",
        "    return answer"
      ],
      "metadata": {
        "id": "aXPxq3Vz7_x6"
      },
      "execution_count": 7,
      "outputs": []
    },
    {
      "cell_type": "code",
      "execution_count": 8,
      "metadata": {
        "colab": {
          "base_uri": "https://localhost:8080/"
        },
        "id": "V4Ef_kwPutFL",
        "outputId": "cb73e58d-a487-480b-fc4e-5d5fa6944b62"
      },
      "outputs": [
        {
          "output_type": "stream",
          "name": "stderr",
          "text": [
            "Some weights of the model checkpoint at ./pretrained_models_dir/bert-base-cased-finetuned-squad were not used when initializing BertForQuestionAnswering: ['bert.pooler.dense.bias', 'bert.pooler.dense.weight']\n",
            "- This IS expected if you are initializing BertForQuestionAnswering from the checkpoint of a model trained on another task or with another architecture (e.g. initializing a BertForSequenceClassification model from a BertForPreTraining model).\n",
            "- This IS NOT expected if you are initializing BertForQuestionAnswering from the checkpoint of a model that you expect to be exactly identical (initializing a BertForSequenceClassification model from a BertForSequenceClassification model).\n"
          ]
        },
        {
          "output_type": "stream",
          "name": "stdout",
          "text": [
            "----------------------------------------------------------------------------------------------------\n",
            "Question: What is the focus of this course?\n",
            "\n",
            "Answer: deep learning methods for natural language processing\n",
            "\n",
            "----------------------------------------------------------------------------------------------------\n",
            "Question: Who is this course intended for?\n",
            "\n",
            "Answer: graduate students in computer science and linguistics\n",
            "\n",
            "----------------------------------------------------------------------------------------------------\n",
            "Question: What is the coursework?\n",
            "\n",
            "Answer: reading recent research papers, programming assignments, and a final project\n",
            "\n"
          ]
        }
      ],
      "source": [
        "task_name = \"SQuAD\"\n",
        "model_name_or_path = \"bert-base-cased-finetuned-squad\"\n",
        "pretrained_weights = os.path.join(pretrained_models_dir, model_name_or_path)\n",
        "task_type = \"question_answering\"\n",
        "model = AUTO_MODEL[task_type].from_pretrained(pretrained_weights)\n",
        "tokenizer = AutoTokenizer.from_pretrained(pretrained_weights)\n",
        "\n",
        "context = \"\"\"This course will broadly focus on deep learning methods for\n",
        "natural language processing. Most of the semester will focus on very recent\n",
        "transfer learning methods that have significantly pushed forward the state of\n",
        "the art. It is intended for graduate students in computer science and\n",
        "linguistics who are (1) interested in learning about cutting-edge research\n",
        "progress in NLP and (2) familiar with machine learning fundamentals. We will\n",
        "cover modeling architectures, training objectives, and downstream tasks (e.g.,\n",
        "text classification, question answering, and text generation). Coursework\n",
        "includes reading recent research papers, programming assignments, and a final\n",
        "project. This class will be asynchronous: lectures will be prerecorded and\n",
        "posted on a weekly basis, along with accompanying readings and assignments.\"\"\"\n",
        "\n",
        "questions = [\n",
        "    \"What is the focus of this course?\",\n",
        "    \"Who is this course intended for?\",\n",
        "    \"What is the coursework?\",\n",
        "]\n",
        "\n",
        "for question in questions:\n",
        "    inputs = tokenizer.encode_plus(question, context, add_special_tokens=False, return_tensors=\"pt\")\n",
        "    input_ids = inputs[\"input_ids\"].tolist()[0]\n",
        "\n",
        "    print(100*'-')\n",
        "    logits = model(**inputs)\n",
        "    answer = find_answer_for_question(logits, input_ids, question, tokenizer)\n",
        "    print(f\"Question: {question}\\n\")\n",
        "    print(f\"Answer: {answer}\\n\" )"
      ]
    },
    {
      "cell_type": "markdown",
      "metadata": {
        "id": "50dIDM6yutFL"
      },
      "source": [
        "### Question 2.6 (5 points)\n",
        "Come up with a new question about this passage that the model gets wrong. The question must be answerable by the passage (i.e., its ground-truth answer should be a span of text within the passage). Show the model's predicted answer on this new sentence."
      ]
    },
    {
      "cell_type": "code",
      "execution_count": 9,
      "metadata": {
        "colab": {
          "base_uri": "https://localhost:8080/"
        },
        "id": "ukyrk0j5utFM",
        "outputId": "42c10d01-7046-4277-81fc-b41d3faf154d"
      },
      "outputs": [
        {
          "output_type": "stream",
          "name": "stdout",
          "text": [
            "your question: \"Who is the target audience for this course?\"\n",
            "ground-truth answer: graduate students in computer science and linguistics\n",
            "predicted answer: who\n"
          ]
        }
      ],
      "source": [
        "your_question = 'Who is the target audience for this course?'\n",
        "your_answer = 'graduate students in computer science and linguistics'\n",
        "\n",
        "inputs = tokenizer.encode_plus(your_question, context, add_special_tokens=False, return_tensors=\"pt\")\n",
        "input_ids = inputs[\"input_ids\"].tolist()[0]\n",
        "\n",
        "logits = model(**inputs)\n",
        "your_model_prediction = find_answer_for_question(logits, input_ids, question, tokenizer)\n",
        "\n",
        "print('your question: \"%s\"\\nground-truth answer: %s\\npredicted answer: %s'\\\n",
        "      % (your_question, your_answer, your_model_prediction))"
      ]
    },
    {
      "cell_type": "markdown",
      "metadata": {
        "id": "gKchtrlrutFM"
      },
      "source": [
        "### Question 2.7 (5 points)\n",
        "Provide a reasonable explanation as to why the model got your question wrong. Also provide a plausible method to improve the underlying QA model so that this kind of error stops happening."
      ]
    },
    {
      "cell_type": "markdown",
      "metadata": {
        "id": "qBjzOeWMutFM"
      },
      "source": [
        "Its because the words that used in the question are not in the main context.\n",
        "its the same question as the \"Who is this course intended for?\"\n",
        "but the structure and words are different ( and the \"intended\" word is in the context so the model will find the answer easier ).\n",
        "\n",
        "for capturing these word meanings and understanding the questions better, we can use another model with more complex architecture like Large BERT or T5 or even LLMs like GPT3 or LLaMa\n",
        "\n",
        "we can still use BERT and fine tune it on some agumented data for questions that are the same but with different structures."
      ]
    },
    {
      "cell_type": "markdown",
      "metadata": {
        "id": "HL8W-Ku8tVLT"
      },
      "source": [
        "## AI Disclosure\n",
        "\n",
        "*   Did you use any AI assistance to complete this homework? If so, please also specify what AI you used.\n",
        "    * *chat GPT*\n",
        "\n",
        "\n",
        "---\n",
        "*(only complete the below questions if you answered yes above)*\n",
        "\n",
        "*   If you used a large language model to assist you, please paste *all* of the prompts that you used below. Add a separate bullet for each prompt, and specify which problem is associated with which prompt.\n",
        "    * *What is GloVe and how it works, how can i use it in python using gensim, tell me useful functions and classes*\n",
        "    *tell me some famous analogies in GloVe similar to the king, woman, man example -> **Q1.1**\n",
        "    *how can i use t-SNE to reduce the dimintion of these word embeddings to 2 with perplexity of 5, and after that i want to plot them in a scatter plot with labels, help me with that -> **Q1.2**\n",
        "    *do the same thing with PCA -> **Q1.2**\n",
        "    *how can i caculate cosin similarity between two embedings -> **Q1.3**\n",
        "    *i have embeddings for word 'bat' in each layer and i want to create a matrix for similarities between each two layers, and plot it in a heatmap -> **Q1.3**\n",
        "    *i have a torch tensor shaped like this torch.Size([1, 10, 768])\n",
        "    how can i access the index 2 of the second dimention? -> **Q1.3**\n",
        "    *i want to use bert for mask prediction, for example: i want to mask a word in this sentence :\n",
        "    [MASK], widely regarded as the greatest writer in the English language, was born in Stratford-upon-Avon, England, in 1564.\n",
        "    and i want to predict the MASK -> **Q1.4**\n",
        "    *what if that i want to get the k-top most probabilities for predicted words, not just the most probable word  -> **Q1.4**\n",
        "    *change the masked_index = tokenized_text.index('[MASK]')\n",
        "    and other parts of functions to predict more 1 mask token  -> **Q1.4**\n",
        "    *model(inputs)[0] gives you the logits of the model for inputs.\n",
        "    what does logit means? -> **Q2.2**\n",
        "    *how can i apply softmax on this logit using torch library -> **Q2.2**\n",
        "    *im using BERT model for classification and this happened\n",
        "    your sentence: \"Its not recommended. its good but pricey.\"\n",
        "    ground-truth label: negative\n",
        "    predicted negative prob: 0.39\n",
        "    predicted positive prob: 0.61\n",
        "    do you think why the model failed the prediction and how can i improve it -> **Q2.4**\n",
        "    *in this part im finding the logits of start and end tokens like this\n",
        "    logits['start_logits'] are the logits for each token being the start and logits['end_logits']\n",
        "    for end token. write a function so it will get the logits and input_ids, and find prints the Question and Answer part separatly.\n",
        "    you can use tokenizer.convert_tokens_to_string and tokenizer.convert_ids_to_tokens -> **Q2.5**\n",
        "    *tell me some questions for this context\n",
        "    \"\"'\n",
        "    context = \"\"\"This course will broadly focus on deep learning methods for\n",
        "    natural language processing. Most of the semester will focus on very recent\n",
        "    transfer learning methods that have significantly pushed forward the state of\n",
        "    the art. It is intended for graduate students in computer science and\n",
        "    linguistics who are (1) interested in learning about cutting-edge research\n",
        "    progress in NLP and (2) familiar with machine learning fundamentals. We will\n",
        "    cover modeling architectures, training objectives, and downstream tasks (e.g.,\n",
        "    text classification, question answering, and text generation). Coursework\n",
        "    includes reading recent research papers, programming assignments, and a final\n",
        "    project. This class will be asynchronous: lectures will be prerecorded and\n",
        "    posted on a weekly basis, along with accompanying readings and assignments.\"\"\"\"\"\"\n",
        "    remember that The question must be answerable by the passage (i.e., its ground-truth answer should be a span of text within the passage) -> **Q2.6**\n",
        "    \n",
        "    \n",
        "\n",
        "\n",
        "\n",
        "\n",
        "*   **Free response**: For each problem for which you used assistance, describe your overall experience with the AI. How helpful was it? Did it just directly give you a good answer, or did you have to edit it? Was its output ever obviously wrong or irrelevant? Did you use it to get the answer or check your own answer?\n",
        "    * for **Q1.1** i was asking for some information about GloVe. my goal was to check my answer mostly.\n",
        "    * for **Q1.2** i wasnt familiar with t-SNE, so i used AI assistant.\n",
        "    * for **Q1.3** i used it for writing some code, i had to edit it several times but it did help me.\n",
        "    * for **Q1.4** i wasnt familiar with writing code for MASK prediction, so i used AI assistant. the answers were good enough to start coding but not good enough. i edited the code a few times before moving on to the next question.\n",
        "    * for **Q2.2** i was asking for some information about the word logit. my goal was to check my answers.\n",
        "    * for **Q2.4** i asked the AI assistant to help me with all the possibilities that why the model failed the classification, my goal was to check my answer and learn more about the reasons that why the model could possibly fail.\n",
        "    * for **Q2.5** i wasnt familiar with writing code for QA task, so i used AI assistant. the answeres were good enough to start coding but not good enough. i edited the code a few times before moving on to the next question.\n",
        "    \n",
        "    * for **Q2.6** i asked for some questions so i can explore the questions spaces for the context.\n"
      ]
    }
  ],
  "metadata": {
    "colab": {
      "provenance": [],
      "gpuType": "T4"
    },
    "kernelspec": {
      "display_name": "Python 3",
      "name": "python3"
    },
    "widgets": {
      "application/vnd.jupyter.widget-state+json": {
        "42cf8623bcf343bd9e0da7a40d52f180": {
          "model_module": "@jupyter-widgets/controls",
          "model_name": "HBoxModel",
          "model_module_version": "1.5.0",
          "state": {
            "_dom_classes": [],
            "_model_module": "@jupyter-widgets/controls",
            "_model_module_version": "1.5.0",
            "_model_name": "HBoxModel",
            "_view_count": null,
            "_view_module": "@jupyter-widgets/controls",
            "_view_module_version": "1.5.0",
            "_view_name": "HBoxView",
            "box_style": "",
            "children": [
              "IPY_MODEL_357b8e6e94584b00ace71b14b57067c1",
              "IPY_MODEL_e5da9bb6018e4680b940cf73bffc7b74",
              "IPY_MODEL_33b19ec34bef40678d8e0d75273ef4db"
            ],
            "layout": "IPY_MODEL_90d30790c006405ea4b2af4398b751ba"
          }
        },
        "357b8e6e94584b00ace71b14b57067c1": {
          "model_module": "@jupyter-widgets/controls",
          "model_name": "HTMLModel",
          "model_module_version": "1.5.0",
          "state": {
            "_dom_classes": [],
            "_model_module": "@jupyter-widgets/controls",
            "_model_module_version": "1.5.0",
            "_model_name": "HTMLModel",
            "_view_count": null,
            "_view_module": "@jupyter-widgets/controls",
            "_view_module_version": "1.5.0",
            "_view_name": "HTMLView",
            "description": "",
            "description_tooltip": null,
            "layout": "IPY_MODEL_fb895e9a9ef54ff2a1d4353253c5b3ff",
            "placeholder": "​",
            "style": "IPY_MODEL_a107dc2504734a5f81dd0f5029fda3d2",
            "value": "tokenizer_config.json: 100%"
          }
        },
        "e5da9bb6018e4680b940cf73bffc7b74": {
          "model_module": "@jupyter-widgets/controls",
          "model_name": "FloatProgressModel",
          "model_module_version": "1.5.0",
          "state": {
            "_dom_classes": [],
            "_model_module": "@jupyter-widgets/controls",
            "_model_module_version": "1.5.0",
            "_model_name": "FloatProgressModel",
            "_view_count": null,
            "_view_module": "@jupyter-widgets/controls",
            "_view_module_version": "1.5.0",
            "_view_name": "ProgressView",
            "bar_style": "success",
            "description": "",
            "description_tooltip": null,
            "layout": "IPY_MODEL_51888811df704090aaefe631818bc748",
            "max": 48,
            "min": 0,
            "orientation": "horizontal",
            "style": "IPY_MODEL_c33d4a3286304d04a0dfe1942949fa6c",
            "value": 48
          }
        },
        "33b19ec34bef40678d8e0d75273ef4db": {
          "model_module": "@jupyter-widgets/controls",
          "model_name": "HTMLModel",
          "model_module_version": "1.5.0",
          "state": {
            "_dom_classes": [],
            "_model_module": "@jupyter-widgets/controls",
            "_model_module_version": "1.5.0",
            "_model_name": "HTMLModel",
            "_view_count": null,
            "_view_module": "@jupyter-widgets/controls",
            "_view_module_version": "1.5.0",
            "_view_name": "HTMLView",
            "description": "",
            "description_tooltip": null,
            "layout": "IPY_MODEL_43bdb3aabee3421cad3363c5864762d1",
            "placeholder": "​",
            "style": "IPY_MODEL_84140cf9cd604c74aa842fa1948d1b1b",
            "value": " 48.0/48.0 [00:00&lt;00:00, 1.12kB/s]"
          }
        },
        "90d30790c006405ea4b2af4398b751ba": {
          "model_module": "@jupyter-widgets/base",
          "model_name": "LayoutModel",
          "model_module_version": "1.2.0",
          "state": {
            "_model_module": "@jupyter-widgets/base",
            "_model_module_version": "1.2.0",
            "_model_name": "LayoutModel",
            "_view_count": null,
            "_view_module": "@jupyter-widgets/base",
            "_view_module_version": "1.2.0",
            "_view_name": "LayoutView",
            "align_content": null,
            "align_items": null,
            "align_self": null,
            "border": null,
            "bottom": null,
            "display": null,
            "flex": null,
            "flex_flow": null,
            "grid_area": null,
            "grid_auto_columns": null,
            "grid_auto_flow": null,
            "grid_auto_rows": null,
            "grid_column": null,
            "grid_gap": null,
            "grid_row": null,
            "grid_template_areas": null,
            "grid_template_columns": null,
            "grid_template_rows": null,
            "height": null,
            "justify_content": null,
            "justify_items": null,
            "left": null,
            "margin": null,
            "max_height": null,
            "max_width": null,
            "min_height": null,
            "min_width": null,
            "object_fit": null,
            "object_position": null,
            "order": null,
            "overflow": null,
            "overflow_x": null,
            "overflow_y": null,
            "padding": null,
            "right": null,
            "top": null,
            "visibility": null,
            "width": null
          }
        },
        "fb895e9a9ef54ff2a1d4353253c5b3ff": {
          "model_module": "@jupyter-widgets/base",
          "model_name": "LayoutModel",
          "model_module_version": "1.2.0",
          "state": {
            "_model_module": "@jupyter-widgets/base",
            "_model_module_version": "1.2.0",
            "_model_name": "LayoutModel",
            "_view_count": null,
            "_view_module": "@jupyter-widgets/base",
            "_view_module_version": "1.2.0",
            "_view_name": "LayoutView",
            "align_content": null,
            "align_items": null,
            "align_self": null,
            "border": null,
            "bottom": null,
            "display": null,
            "flex": null,
            "flex_flow": null,
            "grid_area": null,
            "grid_auto_columns": null,
            "grid_auto_flow": null,
            "grid_auto_rows": null,
            "grid_column": null,
            "grid_gap": null,
            "grid_row": null,
            "grid_template_areas": null,
            "grid_template_columns": null,
            "grid_template_rows": null,
            "height": null,
            "justify_content": null,
            "justify_items": null,
            "left": null,
            "margin": null,
            "max_height": null,
            "max_width": null,
            "min_height": null,
            "min_width": null,
            "object_fit": null,
            "object_position": null,
            "order": null,
            "overflow": null,
            "overflow_x": null,
            "overflow_y": null,
            "padding": null,
            "right": null,
            "top": null,
            "visibility": null,
            "width": null
          }
        },
        "a107dc2504734a5f81dd0f5029fda3d2": {
          "model_module": "@jupyter-widgets/controls",
          "model_name": "DescriptionStyleModel",
          "model_module_version": "1.5.0",
          "state": {
            "_model_module": "@jupyter-widgets/controls",
            "_model_module_version": "1.5.0",
            "_model_name": "DescriptionStyleModel",
            "_view_count": null,
            "_view_module": "@jupyter-widgets/base",
            "_view_module_version": "1.2.0",
            "_view_name": "StyleView",
            "description_width": ""
          }
        },
        "51888811df704090aaefe631818bc748": {
          "model_module": "@jupyter-widgets/base",
          "model_name": "LayoutModel",
          "model_module_version": "1.2.0",
          "state": {
            "_model_module": "@jupyter-widgets/base",
            "_model_module_version": "1.2.0",
            "_model_name": "LayoutModel",
            "_view_count": null,
            "_view_module": "@jupyter-widgets/base",
            "_view_module_version": "1.2.0",
            "_view_name": "LayoutView",
            "align_content": null,
            "align_items": null,
            "align_self": null,
            "border": null,
            "bottom": null,
            "display": null,
            "flex": null,
            "flex_flow": null,
            "grid_area": null,
            "grid_auto_columns": null,
            "grid_auto_flow": null,
            "grid_auto_rows": null,
            "grid_column": null,
            "grid_gap": null,
            "grid_row": null,
            "grid_template_areas": null,
            "grid_template_columns": null,
            "grid_template_rows": null,
            "height": null,
            "justify_content": null,
            "justify_items": null,
            "left": null,
            "margin": null,
            "max_height": null,
            "max_width": null,
            "min_height": null,
            "min_width": null,
            "object_fit": null,
            "object_position": null,
            "order": null,
            "overflow": null,
            "overflow_x": null,
            "overflow_y": null,
            "padding": null,
            "right": null,
            "top": null,
            "visibility": null,
            "width": null
          }
        },
        "c33d4a3286304d04a0dfe1942949fa6c": {
          "model_module": "@jupyter-widgets/controls",
          "model_name": "ProgressStyleModel",
          "model_module_version": "1.5.0",
          "state": {
            "_model_module": "@jupyter-widgets/controls",
            "_model_module_version": "1.5.0",
            "_model_name": "ProgressStyleModel",
            "_view_count": null,
            "_view_module": "@jupyter-widgets/base",
            "_view_module_version": "1.2.0",
            "_view_name": "StyleView",
            "bar_color": null,
            "description_width": ""
          }
        },
        "43bdb3aabee3421cad3363c5864762d1": {
          "model_module": "@jupyter-widgets/base",
          "model_name": "LayoutModel",
          "model_module_version": "1.2.0",
          "state": {
            "_model_module": "@jupyter-widgets/base",
            "_model_module_version": "1.2.0",
            "_model_name": "LayoutModel",
            "_view_count": null,
            "_view_module": "@jupyter-widgets/base",
            "_view_module_version": "1.2.0",
            "_view_name": "LayoutView",
            "align_content": null,
            "align_items": null,
            "align_self": null,
            "border": null,
            "bottom": null,
            "display": null,
            "flex": null,
            "flex_flow": null,
            "grid_area": null,
            "grid_auto_columns": null,
            "grid_auto_flow": null,
            "grid_auto_rows": null,
            "grid_column": null,
            "grid_gap": null,
            "grid_row": null,
            "grid_template_areas": null,
            "grid_template_columns": null,
            "grid_template_rows": null,
            "height": null,
            "justify_content": null,
            "justify_items": null,
            "left": null,
            "margin": null,
            "max_height": null,
            "max_width": null,
            "min_height": null,
            "min_width": null,
            "object_fit": null,
            "object_position": null,
            "order": null,
            "overflow": null,
            "overflow_x": null,
            "overflow_y": null,
            "padding": null,
            "right": null,
            "top": null,
            "visibility": null,
            "width": null
          }
        },
        "84140cf9cd604c74aa842fa1948d1b1b": {
          "model_module": "@jupyter-widgets/controls",
          "model_name": "DescriptionStyleModel",
          "model_module_version": "1.5.0",
          "state": {
            "_model_module": "@jupyter-widgets/controls",
            "_model_module_version": "1.5.0",
            "_model_name": "DescriptionStyleModel",
            "_view_count": null,
            "_view_module": "@jupyter-widgets/base",
            "_view_module_version": "1.2.0",
            "_view_name": "StyleView",
            "description_width": ""
          }
        },
        "5a6abdd2706143c1b7e08a805be51335": {
          "model_module": "@jupyter-widgets/controls",
          "model_name": "HBoxModel",
          "model_module_version": "1.5.0",
          "state": {
            "_dom_classes": [],
            "_model_module": "@jupyter-widgets/controls",
            "_model_module_version": "1.5.0",
            "_model_name": "HBoxModel",
            "_view_count": null,
            "_view_module": "@jupyter-widgets/controls",
            "_view_module_version": "1.5.0",
            "_view_name": "HBoxView",
            "box_style": "",
            "children": [
              "IPY_MODEL_c7a1f100fcaf4d389d954ab64cd88092",
              "IPY_MODEL_87db7c5a96b344e69b9985f6e94b3459",
              "IPY_MODEL_6edabc87253449f5bdb3732da9cb7c4d"
            ],
            "layout": "IPY_MODEL_94533d151c4745e2bd350b559eea6b6d"
          }
        },
        "c7a1f100fcaf4d389d954ab64cd88092": {
          "model_module": "@jupyter-widgets/controls",
          "model_name": "HTMLModel",
          "model_module_version": "1.5.0",
          "state": {
            "_dom_classes": [],
            "_model_module": "@jupyter-widgets/controls",
            "_model_module_version": "1.5.0",
            "_model_name": "HTMLModel",
            "_view_count": null,
            "_view_module": "@jupyter-widgets/controls",
            "_view_module_version": "1.5.0",
            "_view_name": "HTMLView",
            "description": "",
            "description_tooltip": null,
            "layout": "IPY_MODEL_9a5deeb578cb4ca5956f3ea29e9f48a9",
            "placeholder": "​",
            "style": "IPY_MODEL_1ea0db59183549588aa275ce609e108d",
            "value": "vocab.txt: 100%"
          }
        },
        "87db7c5a96b344e69b9985f6e94b3459": {
          "model_module": "@jupyter-widgets/controls",
          "model_name": "FloatProgressModel",
          "model_module_version": "1.5.0",
          "state": {
            "_dom_classes": [],
            "_model_module": "@jupyter-widgets/controls",
            "_model_module_version": "1.5.0",
            "_model_name": "FloatProgressModel",
            "_view_count": null,
            "_view_module": "@jupyter-widgets/controls",
            "_view_module_version": "1.5.0",
            "_view_name": "ProgressView",
            "bar_style": "success",
            "description": "",
            "description_tooltip": null,
            "layout": "IPY_MODEL_c94cabaa5007415c960c01ab6f190d56",
            "max": 231508,
            "min": 0,
            "orientation": "horizontal",
            "style": "IPY_MODEL_9d63258d7cda4826abed85117e8fbe10",
            "value": 231508
          }
        },
        "6edabc87253449f5bdb3732da9cb7c4d": {
          "model_module": "@jupyter-widgets/controls",
          "model_name": "HTMLModel",
          "model_module_version": "1.5.0",
          "state": {
            "_dom_classes": [],
            "_model_module": "@jupyter-widgets/controls",
            "_model_module_version": "1.5.0",
            "_model_name": "HTMLModel",
            "_view_count": null,
            "_view_module": "@jupyter-widgets/controls",
            "_view_module_version": "1.5.0",
            "_view_name": "HTMLView",
            "description": "",
            "description_tooltip": null,
            "layout": "IPY_MODEL_501afb1b59624a89a48f4e14b3600e95",
            "placeholder": "​",
            "style": "IPY_MODEL_aad092abd8174f958070955112305edc",
            "value": " 232k/232k [00:00&lt;00:00, 1.41MB/s]"
          }
        },
        "94533d151c4745e2bd350b559eea6b6d": {
          "model_module": "@jupyter-widgets/base",
          "model_name": "LayoutModel",
          "model_module_version": "1.2.0",
          "state": {
            "_model_module": "@jupyter-widgets/base",
            "_model_module_version": "1.2.0",
            "_model_name": "LayoutModel",
            "_view_count": null,
            "_view_module": "@jupyter-widgets/base",
            "_view_module_version": "1.2.0",
            "_view_name": "LayoutView",
            "align_content": null,
            "align_items": null,
            "align_self": null,
            "border": null,
            "bottom": null,
            "display": null,
            "flex": null,
            "flex_flow": null,
            "grid_area": null,
            "grid_auto_columns": null,
            "grid_auto_flow": null,
            "grid_auto_rows": null,
            "grid_column": null,
            "grid_gap": null,
            "grid_row": null,
            "grid_template_areas": null,
            "grid_template_columns": null,
            "grid_template_rows": null,
            "height": null,
            "justify_content": null,
            "justify_items": null,
            "left": null,
            "margin": null,
            "max_height": null,
            "max_width": null,
            "min_height": null,
            "min_width": null,
            "object_fit": null,
            "object_position": null,
            "order": null,
            "overflow": null,
            "overflow_x": null,
            "overflow_y": null,
            "padding": null,
            "right": null,
            "top": null,
            "visibility": null,
            "width": null
          }
        },
        "9a5deeb578cb4ca5956f3ea29e9f48a9": {
          "model_module": "@jupyter-widgets/base",
          "model_name": "LayoutModel",
          "model_module_version": "1.2.0",
          "state": {
            "_model_module": "@jupyter-widgets/base",
            "_model_module_version": "1.2.0",
            "_model_name": "LayoutModel",
            "_view_count": null,
            "_view_module": "@jupyter-widgets/base",
            "_view_module_version": "1.2.0",
            "_view_name": "LayoutView",
            "align_content": null,
            "align_items": null,
            "align_self": null,
            "border": null,
            "bottom": null,
            "display": null,
            "flex": null,
            "flex_flow": null,
            "grid_area": null,
            "grid_auto_columns": null,
            "grid_auto_flow": null,
            "grid_auto_rows": null,
            "grid_column": null,
            "grid_gap": null,
            "grid_row": null,
            "grid_template_areas": null,
            "grid_template_columns": null,
            "grid_template_rows": null,
            "height": null,
            "justify_content": null,
            "justify_items": null,
            "left": null,
            "margin": null,
            "max_height": null,
            "max_width": null,
            "min_height": null,
            "min_width": null,
            "object_fit": null,
            "object_position": null,
            "order": null,
            "overflow": null,
            "overflow_x": null,
            "overflow_y": null,
            "padding": null,
            "right": null,
            "top": null,
            "visibility": null,
            "width": null
          }
        },
        "1ea0db59183549588aa275ce609e108d": {
          "model_module": "@jupyter-widgets/controls",
          "model_name": "DescriptionStyleModel",
          "model_module_version": "1.5.0",
          "state": {
            "_model_module": "@jupyter-widgets/controls",
            "_model_module_version": "1.5.0",
            "_model_name": "DescriptionStyleModel",
            "_view_count": null,
            "_view_module": "@jupyter-widgets/base",
            "_view_module_version": "1.2.0",
            "_view_name": "StyleView",
            "description_width": ""
          }
        },
        "c94cabaa5007415c960c01ab6f190d56": {
          "model_module": "@jupyter-widgets/base",
          "model_name": "LayoutModel",
          "model_module_version": "1.2.0",
          "state": {
            "_model_module": "@jupyter-widgets/base",
            "_model_module_version": "1.2.0",
            "_model_name": "LayoutModel",
            "_view_count": null,
            "_view_module": "@jupyter-widgets/base",
            "_view_module_version": "1.2.0",
            "_view_name": "LayoutView",
            "align_content": null,
            "align_items": null,
            "align_self": null,
            "border": null,
            "bottom": null,
            "display": null,
            "flex": null,
            "flex_flow": null,
            "grid_area": null,
            "grid_auto_columns": null,
            "grid_auto_flow": null,
            "grid_auto_rows": null,
            "grid_column": null,
            "grid_gap": null,
            "grid_row": null,
            "grid_template_areas": null,
            "grid_template_columns": null,
            "grid_template_rows": null,
            "height": null,
            "justify_content": null,
            "justify_items": null,
            "left": null,
            "margin": null,
            "max_height": null,
            "max_width": null,
            "min_height": null,
            "min_width": null,
            "object_fit": null,
            "object_position": null,
            "order": null,
            "overflow": null,
            "overflow_x": null,
            "overflow_y": null,
            "padding": null,
            "right": null,
            "top": null,
            "visibility": null,
            "width": null
          }
        },
        "9d63258d7cda4826abed85117e8fbe10": {
          "model_module": "@jupyter-widgets/controls",
          "model_name": "ProgressStyleModel",
          "model_module_version": "1.5.0",
          "state": {
            "_model_module": "@jupyter-widgets/controls",
            "_model_module_version": "1.5.0",
            "_model_name": "ProgressStyleModel",
            "_view_count": null,
            "_view_module": "@jupyter-widgets/base",
            "_view_module_version": "1.2.0",
            "_view_name": "StyleView",
            "bar_color": null,
            "description_width": ""
          }
        },
        "501afb1b59624a89a48f4e14b3600e95": {
          "model_module": "@jupyter-widgets/base",
          "model_name": "LayoutModel",
          "model_module_version": "1.2.0",
          "state": {
            "_model_module": "@jupyter-widgets/base",
            "_model_module_version": "1.2.0",
            "_model_name": "LayoutModel",
            "_view_count": null,
            "_view_module": "@jupyter-widgets/base",
            "_view_module_version": "1.2.0",
            "_view_name": "LayoutView",
            "align_content": null,
            "align_items": null,
            "align_self": null,
            "border": null,
            "bottom": null,
            "display": null,
            "flex": null,
            "flex_flow": null,
            "grid_area": null,
            "grid_auto_columns": null,
            "grid_auto_flow": null,
            "grid_auto_rows": null,
            "grid_column": null,
            "grid_gap": null,
            "grid_row": null,
            "grid_template_areas": null,
            "grid_template_columns": null,
            "grid_template_rows": null,
            "height": null,
            "justify_content": null,
            "justify_items": null,
            "left": null,
            "margin": null,
            "max_height": null,
            "max_width": null,
            "min_height": null,
            "min_width": null,
            "object_fit": null,
            "object_position": null,
            "order": null,
            "overflow": null,
            "overflow_x": null,
            "overflow_y": null,
            "padding": null,
            "right": null,
            "top": null,
            "visibility": null,
            "width": null
          }
        },
        "aad092abd8174f958070955112305edc": {
          "model_module": "@jupyter-widgets/controls",
          "model_name": "DescriptionStyleModel",
          "model_module_version": "1.5.0",
          "state": {
            "_model_module": "@jupyter-widgets/controls",
            "_model_module_version": "1.5.0",
            "_model_name": "DescriptionStyleModel",
            "_view_count": null,
            "_view_module": "@jupyter-widgets/base",
            "_view_module_version": "1.2.0",
            "_view_name": "StyleView",
            "description_width": ""
          }
        },
        "09d5826cb1114406964352f839bc5e7c": {
          "model_module": "@jupyter-widgets/controls",
          "model_name": "HBoxModel",
          "model_module_version": "1.5.0",
          "state": {
            "_dom_classes": [],
            "_model_module": "@jupyter-widgets/controls",
            "_model_module_version": "1.5.0",
            "_model_name": "HBoxModel",
            "_view_count": null,
            "_view_module": "@jupyter-widgets/controls",
            "_view_module_version": "1.5.0",
            "_view_name": "HBoxView",
            "box_style": "",
            "children": [
              "IPY_MODEL_12f9b981aea6491c87e9a84be69fc097",
              "IPY_MODEL_fd100e13614c44d78d976c4bcbc32a54",
              "IPY_MODEL_eaea7748f09049c28a5f90032cf9fb7d"
            ],
            "layout": "IPY_MODEL_ed76caf2711a40e08796b46652091349"
          }
        },
        "12f9b981aea6491c87e9a84be69fc097": {
          "model_module": "@jupyter-widgets/controls",
          "model_name": "HTMLModel",
          "model_module_version": "1.5.0",
          "state": {
            "_dom_classes": [],
            "_model_module": "@jupyter-widgets/controls",
            "_model_module_version": "1.5.0",
            "_model_name": "HTMLModel",
            "_view_count": null,
            "_view_module": "@jupyter-widgets/controls",
            "_view_module_version": "1.5.0",
            "_view_name": "HTMLView",
            "description": "",
            "description_tooltip": null,
            "layout": "IPY_MODEL_9c196efcba8e40bab0e8e0ba61f17217",
            "placeholder": "​",
            "style": "IPY_MODEL_037aaa3363f242c3892e2afe4fe36835",
            "value": "tokenizer.json: 100%"
          }
        },
        "fd100e13614c44d78d976c4bcbc32a54": {
          "model_module": "@jupyter-widgets/controls",
          "model_name": "FloatProgressModel",
          "model_module_version": "1.5.0",
          "state": {
            "_dom_classes": [],
            "_model_module": "@jupyter-widgets/controls",
            "_model_module_version": "1.5.0",
            "_model_name": "FloatProgressModel",
            "_view_count": null,
            "_view_module": "@jupyter-widgets/controls",
            "_view_module_version": "1.5.0",
            "_view_name": "ProgressView",
            "bar_style": "success",
            "description": "",
            "description_tooltip": null,
            "layout": "IPY_MODEL_daddead9a3a3400ca5a15dcdb8cf2d2a",
            "max": 466062,
            "min": 0,
            "orientation": "horizontal",
            "style": "IPY_MODEL_ee9ab781de0843488ae49c09829081f7",
            "value": 466062
          }
        },
        "eaea7748f09049c28a5f90032cf9fb7d": {
          "model_module": "@jupyter-widgets/controls",
          "model_name": "HTMLModel",
          "model_module_version": "1.5.0",
          "state": {
            "_dom_classes": [],
            "_model_module": "@jupyter-widgets/controls",
            "_model_module_version": "1.5.0",
            "_model_name": "HTMLModel",
            "_view_count": null,
            "_view_module": "@jupyter-widgets/controls",
            "_view_module_version": "1.5.0",
            "_view_name": "HTMLView",
            "description": "",
            "description_tooltip": null,
            "layout": "IPY_MODEL_b8e91cd4435342398fb591c1a153d397",
            "placeholder": "​",
            "style": "IPY_MODEL_8c2957fb96974a4faa378f85e50c17d4",
            "value": " 466k/466k [00:00&lt;00:00, 2.87MB/s]"
          }
        },
        "ed76caf2711a40e08796b46652091349": {
          "model_module": "@jupyter-widgets/base",
          "model_name": "LayoutModel",
          "model_module_version": "1.2.0",
          "state": {
            "_model_module": "@jupyter-widgets/base",
            "_model_module_version": "1.2.0",
            "_model_name": "LayoutModel",
            "_view_count": null,
            "_view_module": "@jupyter-widgets/base",
            "_view_module_version": "1.2.0",
            "_view_name": "LayoutView",
            "align_content": null,
            "align_items": null,
            "align_self": null,
            "border": null,
            "bottom": null,
            "display": null,
            "flex": null,
            "flex_flow": null,
            "grid_area": null,
            "grid_auto_columns": null,
            "grid_auto_flow": null,
            "grid_auto_rows": null,
            "grid_column": null,
            "grid_gap": null,
            "grid_row": null,
            "grid_template_areas": null,
            "grid_template_columns": null,
            "grid_template_rows": null,
            "height": null,
            "justify_content": null,
            "justify_items": null,
            "left": null,
            "margin": null,
            "max_height": null,
            "max_width": null,
            "min_height": null,
            "min_width": null,
            "object_fit": null,
            "object_position": null,
            "order": null,
            "overflow": null,
            "overflow_x": null,
            "overflow_y": null,
            "padding": null,
            "right": null,
            "top": null,
            "visibility": null,
            "width": null
          }
        },
        "9c196efcba8e40bab0e8e0ba61f17217": {
          "model_module": "@jupyter-widgets/base",
          "model_name": "LayoutModel",
          "model_module_version": "1.2.0",
          "state": {
            "_model_module": "@jupyter-widgets/base",
            "_model_module_version": "1.2.0",
            "_model_name": "LayoutModel",
            "_view_count": null,
            "_view_module": "@jupyter-widgets/base",
            "_view_module_version": "1.2.0",
            "_view_name": "LayoutView",
            "align_content": null,
            "align_items": null,
            "align_self": null,
            "border": null,
            "bottom": null,
            "display": null,
            "flex": null,
            "flex_flow": null,
            "grid_area": null,
            "grid_auto_columns": null,
            "grid_auto_flow": null,
            "grid_auto_rows": null,
            "grid_column": null,
            "grid_gap": null,
            "grid_row": null,
            "grid_template_areas": null,
            "grid_template_columns": null,
            "grid_template_rows": null,
            "height": null,
            "justify_content": null,
            "justify_items": null,
            "left": null,
            "margin": null,
            "max_height": null,
            "max_width": null,
            "min_height": null,
            "min_width": null,
            "object_fit": null,
            "object_position": null,
            "order": null,
            "overflow": null,
            "overflow_x": null,
            "overflow_y": null,
            "padding": null,
            "right": null,
            "top": null,
            "visibility": null,
            "width": null
          }
        },
        "037aaa3363f242c3892e2afe4fe36835": {
          "model_module": "@jupyter-widgets/controls",
          "model_name": "DescriptionStyleModel",
          "model_module_version": "1.5.0",
          "state": {
            "_model_module": "@jupyter-widgets/controls",
            "_model_module_version": "1.5.0",
            "_model_name": "DescriptionStyleModel",
            "_view_count": null,
            "_view_module": "@jupyter-widgets/base",
            "_view_module_version": "1.2.0",
            "_view_name": "StyleView",
            "description_width": ""
          }
        },
        "daddead9a3a3400ca5a15dcdb8cf2d2a": {
          "model_module": "@jupyter-widgets/base",
          "model_name": "LayoutModel",
          "model_module_version": "1.2.0",
          "state": {
            "_model_module": "@jupyter-widgets/base",
            "_model_module_version": "1.2.0",
            "_model_name": "LayoutModel",
            "_view_count": null,
            "_view_module": "@jupyter-widgets/base",
            "_view_module_version": "1.2.0",
            "_view_name": "LayoutView",
            "align_content": null,
            "align_items": null,
            "align_self": null,
            "border": null,
            "bottom": null,
            "display": null,
            "flex": null,
            "flex_flow": null,
            "grid_area": null,
            "grid_auto_columns": null,
            "grid_auto_flow": null,
            "grid_auto_rows": null,
            "grid_column": null,
            "grid_gap": null,
            "grid_row": null,
            "grid_template_areas": null,
            "grid_template_columns": null,
            "grid_template_rows": null,
            "height": null,
            "justify_content": null,
            "justify_items": null,
            "left": null,
            "margin": null,
            "max_height": null,
            "max_width": null,
            "min_height": null,
            "min_width": null,
            "object_fit": null,
            "object_position": null,
            "order": null,
            "overflow": null,
            "overflow_x": null,
            "overflow_y": null,
            "padding": null,
            "right": null,
            "top": null,
            "visibility": null,
            "width": null
          }
        },
        "ee9ab781de0843488ae49c09829081f7": {
          "model_module": "@jupyter-widgets/controls",
          "model_name": "ProgressStyleModel",
          "model_module_version": "1.5.0",
          "state": {
            "_model_module": "@jupyter-widgets/controls",
            "_model_module_version": "1.5.0",
            "_model_name": "ProgressStyleModel",
            "_view_count": null,
            "_view_module": "@jupyter-widgets/base",
            "_view_module_version": "1.2.0",
            "_view_name": "StyleView",
            "bar_color": null,
            "description_width": ""
          }
        },
        "b8e91cd4435342398fb591c1a153d397": {
          "model_module": "@jupyter-widgets/base",
          "model_name": "LayoutModel",
          "model_module_version": "1.2.0",
          "state": {
            "_model_module": "@jupyter-widgets/base",
            "_model_module_version": "1.2.0",
            "_model_name": "LayoutModel",
            "_view_count": null,
            "_view_module": "@jupyter-widgets/base",
            "_view_module_version": "1.2.0",
            "_view_name": "LayoutView",
            "align_content": null,
            "align_items": null,
            "align_self": null,
            "border": null,
            "bottom": null,
            "display": null,
            "flex": null,
            "flex_flow": null,
            "grid_area": null,
            "grid_auto_columns": null,
            "grid_auto_flow": null,
            "grid_auto_rows": null,
            "grid_column": null,
            "grid_gap": null,
            "grid_row": null,
            "grid_template_areas": null,
            "grid_template_columns": null,
            "grid_template_rows": null,
            "height": null,
            "justify_content": null,
            "justify_items": null,
            "left": null,
            "margin": null,
            "max_height": null,
            "max_width": null,
            "min_height": null,
            "min_width": null,
            "object_fit": null,
            "object_position": null,
            "order": null,
            "overflow": null,
            "overflow_x": null,
            "overflow_y": null,
            "padding": null,
            "right": null,
            "top": null,
            "visibility": null,
            "width": null
          }
        },
        "8c2957fb96974a4faa378f85e50c17d4": {
          "model_module": "@jupyter-widgets/controls",
          "model_name": "DescriptionStyleModel",
          "model_module_version": "1.5.0",
          "state": {
            "_model_module": "@jupyter-widgets/controls",
            "_model_module_version": "1.5.0",
            "_model_name": "DescriptionStyleModel",
            "_view_count": null,
            "_view_module": "@jupyter-widgets/base",
            "_view_module_version": "1.2.0",
            "_view_name": "StyleView",
            "description_width": ""
          }
        },
        "a2b6d6cde6f447149dc383dfe33a9e63": {
          "model_module": "@jupyter-widgets/controls",
          "model_name": "HBoxModel",
          "model_module_version": "1.5.0",
          "state": {
            "_dom_classes": [],
            "_model_module": "@jupyter-widgets/controls",
            "_model_module_version": "1.5.0",
            "_model_name": "HBoxModel",
            "_view_count": null,
            "_view_module": "@jupyter-widgets/controls",
            "_view_module_version": "1.5.0",
            "_view_name": "HBoxView",
            "box_style": "",
            "children": [
              "IPY_MODEL_53e43de31779472486b6eb58e4208d35",
              "IPY_MODEL_cfad33fc22544a06a722cc21084c3e2d",
              "IPY_MODEL_eda1f88106a54abcaf2214aea13df0f7"
            ],
            "layout": "IPY_MODEL_9fbe32593362430e9534a0714c17e6ea"
          }
        },
        "53e43de31779472486b6eb58e4208d35": {
          "model_module": "@jupyter-widgets/controls",
          "model_name": "HTMLModel",
          "model_module_version": "1.5.0",
          "state": {
            "_dom_classes": [],
            "_model_module": "@jupyter-widgets/controls",
            "_model_module_version": "1.5.0",
            "_model_name": "HTMLModel",
            "_view_count": null,
            "_view_module": "@jupyter-widgets/controls",
            "_view_module_version": "1.5.0",
            "_view_name": "HTMLView",
            "description": "",
            "description_tooltip": null,
            "layout": "IPY_MODEL_4771ca741ba7494896cbf9cfec45724f",
            "placeholder": "​",
            "style": "IPY_MODEL_2bb9ea9637794486b897b32117bc00f8",
            "value": "config.json: 100%"
          }
        },
        "cfad33fc22544a06a722cc21084c3e2d": {
          "model_module": "@jupyter-widgets/controls",
          "model_name": "FloatProgressModel",
          "model_module_version": "1.5.0",
          "state": {
            "_dom_classes": [],
            "_model_module": "@jupyter-widgets/controls",
            "_model_module_version": "1.5.0",
            "_model_name": "FloatProgressModel",
            "_view_count": null,
            "_view_module": "@jupyter-widgets/controls",
            "_view_module_version": "1.5.0",
            "_view_name": "ProgressView",
            "bar_style": "success",
            "description": "",
            "description_tooltip": null,
            "layout": "IPY_MODEL_949edff8487649f88f5691d45447a23b",
            "max": 570,
            "min": 0,
            "orientation": "horizontal",
            "style": "IPY_MODEL_8898b59d7d9c4165b6a06fb8bc3a54cc",
            "value": 570
          }
        },
        "eda1f88106a54abcaf2214aea13df0f7": {
          "model_module": "@jupyter-widgets/controls",
          "model_name": "HTMLModel",
          "model_module_version": "1.5.0",
          "state": {
            "_dom_classes": [],
            "_model_module": "@jupyter-widgets/controls",
            "_model_module_version": "1.5.0",
            "_model_name": "HTMLModel",
            "_view_count": null,
            "_view_module": "@jupyter-widgets/controls",
            "_view_module_version": "1.5.0",
            "_view_name": "HTMLView",
            "description": "",
            "description_tooltip": null,
            "layout": "IPY_MODEL_e307a8a617114743a973cc4ab127d426",
            "placeholder": "​",
            "style": "IPY_MODEL_31e7665905c645d68beaf95544bed689",
            "value": " 570/570 [00:00&lt;00:00, 12.5kB/s]"
          }
        },
        "9fbe32593362430e9534a0714c17e6ea": {
          "model_module": "@jupyter-widgets/base",
          "model_name": "LayoutModel",
          "model_module_version": "1.2.0",
          "state": {
            "_model_module": "@jupyter-widgets/base",
            "_model_module_version": "1.2.0",
            "_model_name": "LayoutModel",
            "_view_count": null,
            "_view_module": "@jupyter-widgets/base",
            "_view_module_version": "1.2.0",
            "_view_name": "LayoutView",
            "align_content": null,
            "align_items": null,
            "align_self": null,
            "border": null,
            "bottom": null,
            "display": null,
            "flex": null,
            "flex_flow": null,
            "grid_area": null,
            "grid_auto_columns": null,
            "grid_auto_flow": null,
            "grid_auto_rows": null,
            "grid_column": null,
            "grid_gap": null,
            "grid_row": null,
            "grid_template_areas": null,
            "grid_template_columns": null,
            "grid_template_rows": null,
            "height": null,
            "justify_content": null,
            "justify_items": null,
            "left": null,
            "margin": null,
            "max_height": null,
            "max_width": null,
            "min_height": null,
            "min_width": null,
            "object_fit": null,
            "object_position": null,
            "order": null,
            "overflow": null,
            "overflow_x": null,
            "overflow_y": null,
            "padding": null,
            "right": null,
            "top": null,
            "visibility": null,
            "width": null
          }
        },
        "4771ca741ba7494896cbf9cfec45724f": {
          "model_module": "@jupyter-widgets/base",
          "model_name": "LayoutModel",
          "model_module_version": "1.2.0",
          "state": {
            "_model_module": "@jupyter-widgets/base",
            "_model_module_version": "1.2.0",
            "_model_name": "LayoutModel",
            "_view_count": null,
            "_view_module": "@jupyter-widgets/base",
            "_view_module_version": "1.2.0",
            "_view_name": "LayoutView",
            "align_content": null,
            "align_items": null,
            "align_self": null,
            "border": null,
            "bottom": null,
            "display": null,
            "flex": null,
            "flex_flow": null,
            "grid_area": null,
            "grid_auto_columns": null,
            "grid_auto_flow": null,
            "grid_auto_rows": null,
            "grid_column": null,
            "grid_gap": null,
            "grid_row": null,
            "grid_template_areas": null,
            "grid_template_columns": null,
            "grid_template_rows": null,
            "height": null,
            "justify_content": null,
            "justify_items": null,
            "left": null,
            "margin": null,
            "max_height": null,
            "max_width": null,
            "min_height": null,
            "min_width": null,
            "object_fit": null,
            "object_position": null,
            "order": null,
            "overflow": null,
            "overflow_x": null,
            "overflow_y": null,
            "padding": null,
            "right": null,
            "top": null,
            "visibility": null,
            "width": null
          }
        },
        "2bb9ea9637794486b897b32117bc00f8": {
          "model_module": "@jupyter-widgets/controls",
          "model_name": "DescriptionStyleModel",
          "model_module_version": "1.5.0",
          "state": {
            "_model_module": "@jupyter-widgets/controls",
            "_model_module_version": "1.5.0",
            "_model_name": "DescriptionStyleModel",
            "_view_count": null,
            "_view_module": "@jupyter-widgets/base",
            "_view_module_version": "1.2.0",
            "_view_name": "StyleView",
            "description_width": ""
          }
        },
        "949edff8487649f88f5691d45447a23b": {
          "model_module": "@jupyter-widgets/base",
          "model_name": "LayoutModel",
          "model_module_version": "1.2.0",
          "state": {
            "_model_module": "@jupyter-widgets/base",
            "_model_module_version": "1.2.0",
            "_model_name": "LayoutModel",
            "_view_count": null,
            "_view_module": "@jupyter-widgets/base",
            "_view_module_version": "1.2.0",
            "_view_name": "LayoutView",
            "align_content": null,
            "align_items": null,
            "align_self": null,
            "border": null,
            "bottom": null,
            "display": null,
            "flex": null,
            "flex_flow": null,
            "grid_area": null,
            "grid_auto_columns": null,
            "grid_auto_flow": null,
            "grid_auto_rows": null,
            "grid_column": null,
            "grid_gap": null,
            "grid_row": null,
            "grid_template_areas": null,
            "grid_template_columns": null,
            "grid_template_rows": null,
            "height": null,
            "justify_content": null,
            "justify_items": null,
            "left": null,
            "margin": null,
            "max_height": null,
            "max_width": null,
            "min_height": null,
            "min_width": null,
            "object_fit": null,
            "object_position": null,
            "order": null,
            "overflow": null,
            "overflow_x": null,
            "overflow_y": null,
            "padding": null,
            "right": null,
            "top": null,
            "visibility": null,
            "width": null
          }
        },
        "8898b59d7d9c4165b6a06fb8bc3a54cc": {
          "model_module": "@jupyter-widgets/controls",
          "model_name": "ProgressStyleModel",
          "model_module_version": "1.5.0",
          "state": {
            "_model_module": "@jupyter-widgets/controls",
            "_model_module_version": "1.5.0",
            "_model_name": "ProgressStyleModel",
            "_view_count": null,
            "_view_module": "@jupyter-widgets/base",
            "_view_module_version": "1.2.0",
            "_view_name": "StyleView",
            "bar_color": null,
            "description_width": ""
          }
        },
        "e307a8a617114743a973cc4ab127d426": {
          "model_module": "@jupyter-widgets/base",
          "model_name": "LayoutModel",
          "model_module_version": "1.2.0",
          "state": {
            "_model_module": "@jupyter-widgets/base",
            "_model_module_version": "1.2.0",
            "_model_name": "LayoutModel",
            "_view_count": null,
            "_view_module": "@jupyter-widgets/base",
            "_view_module_version": "1.2.0",
            "_view_name": "LayoutView",
            "align_content": null,
            "align_items": null,
            "align_self": null,
            "border": null,
            "bottom": null,
            "display": null,
            "flex": null,
            "flex_flow": null,
            "grid_area": null,
            "grid_auto_columns": null,
            "grid_auto_flow": null,
            "grid_auto_rows": null,
            "grid_column": null,
            "grid_gap": null,
            "grid_row": null,
            "grid_template_areas": null,
            "grid_template_columns": null,
            "grid_template_rows": null,
            "height": null,
            "justify_content": null,
            "justify_items": null,
            "left": null,
            "margin": null,
            "max_height": null,
            "max_width": null,
            "min_height": null,
            "min_width": null,
            "object_fit": null,
            "object_position": null,
            "order": null,
            "overflow": null,
            "overflow_x": null,
            "overflow_y": null,
            "padding": null,
            "right": null,
            "top": null,
            "visibility": null,
            "width": null
          }
        },
        "31e7665905c645d68beaf95544bed689": {
          "model_module": "@jupyter-widgets/controls",
          "model_name": "DescriptionStyleModel",
          "model_module_version": "1.5.0",
          "state": {
            "_model_module": "@jupyter-widgets/controls",
            "_model_module_version": "1.5.0",
            "_model_name": "DescriptionStyleModel",
            "_view_count": null,
            "_view_module": "@jupyter-widgets/base",
            "_view_module_version": "1.2.0",
            "_view_name": "StyleView",
            "description_width": ""
          }
        },
        "3c9e191514e645048bcba5f40b907dfe": {
          "model_module": "@jupyter-widgets/controls",
          "model_name": "HBoxModel",
          "model_module_version": "1.5.0",
          "state": {
            "_dom_classes": [],
            "_model_module": "@jupyter-widgets/controls",
            "_model_module_version": "1.5.0",
            "_model_name": "HBoxModel",
            "_view_count": null,
            "_view_module": "@jupyter-widgets/controls",
            "_view_module_version": "1.5.0",
            "_view_name": "HBoxView",
            "box_style": "",
            "children": [
              "IPY_MODEL_573f7d92a5444830a8ec19fa1ad45a67",
              "IPY_MODEL_4a7736a639f34e9a9475a58ec00ce537",
              "IPY_MODEL_0447aed80c2c4cef8cad8756c5184cc9"
            ],
            "layout": "IPY_MODEL_cc00009dae714343b2173fba17572cdc"
          }
        },
        "573f7d92a5444830a8ec19fa1ad45a67": {
          "model_module": "@jupyter-widgets/controls",
          "model_name": "HTMLModel",
          "model_module_version": "1.5.0",
          "state": {
            "_dom_classes": [],
            "_model_module": "@jupyter-widgets/controls",
            "_model_module_version": "1.5.0",
            "_model_name": "HTMLModel",
            "_view_count": null,
            "_view_module": "@jupyter-widgets/controls",
            "_view_module_version": "1.5.0",
            "_view_name": "HTMLView",
            "description": "",
            "description_tooltip": null,
            "layout": "IPY_MODEL_93de0bb6108b4a07b2cca91aa13829cb",
            "placeholder": "​",
            "style": "IPY_MODEL_87726fb4ff9a4620970208887de71519",
            "value": "model.safetensors: 100%"
          }
        },
        "4a7736a639f34e9a9475a58ec00ce537": {
          "model_module": "@jupyter-widgets/controls",
          "model_name": "FloatProgressModel",
          "model_module_version": "1.5.0",
          "state": {
            "_dom_classes": [],
            "_model_module": "@jupyter-widgets/controls",
            "_model_module_version": "1.5.0",
            "_model_name": "FloatProgressModel",
            "_view_count": null,
            "_view_module": "@jupyter-widgets/controls",
            "_view_module_version": "1.5.0",
            "_view_name": "ProgressView",
            "bar_style": "success",
            "description": "",
            "description_tooltip": null,
            "layout": "IPY_MODEL_574bb5bb86db498fa669906f6c0e8126",
            "max": 440449768,
            "min": 0,
            "orientation": "horizontal",
            "style": "IPY_MODEL_895a7857c734474eb7cb84b8dbf6b17e",
            "value": 440449768
          }
        },
        "0447aed80c2c4cef8cad8756c5184cc9": {
          "model_module": "@jupyter-widgets/controls",
          "model_name": "HTMLModel",
          "model_module_version": "1.5.0",
          "state": {
            "_dom_classes": [],
            "_model_module": "@jupyter-widgets/controls",
            "_model_module_version": "1.5.0",
            "_model_name": "HTMLModel",
            "_view_count": null,
            "_view_module": "@jupyter-widgets/controls",
            "_view_module_version": "1.5.0",
            "_view_name": "HTMLView",
            "description": "",
            "description_tooltip": null,
            "layout": "IPY_MODEL_e867503b36014aa5ab37f755a135c4b0",
            "placeholder": "​",
            "style": "IPY_MODEL_02e7ddfef0da4b57a4ca4c618f493f8f",
            "value": " 440M/440M [00:03&lt;00:00, 114MB/s]"
          }
        },
        "cc00009dae714343b2173fba17572cdc": {
          "model_module": "@jupyter-widgets/base",
          "model_name": "LayoutModel",
          "model_module_version": "1.2.0",
          "state": {
            "_model_module": "@jupyter-widgets/base",
            "_model_module_version": "1.2.0",
            "_model_name": "LayoutModel",
            "_view_count": null,
            "_view_module": "@jupyter-widgets/base",
            "_view_module_version": "1.2.0",
            "_view_name": "LayoutView",
            "align_content": null,
            "align_items": null,
            "align_self": null,
            "border": null,
            "bottom": null,
            "display": null,
            "flex": null,
            "flex_flow": null,
            "grid_area": null,
            "grid_auto_columns": null,
            "grid_auto_flow": null,
            "grid_auto_rows": null,
            "grid_column": null,
            "grid_gap": null,
            "grid_row": null,
            "grid_template_areas": null,
            "grid_template_columns": null,
            "grid_template_rows": null,
            "height": null,
            "justify_content": null,
            "justify_items": null,
            "left": null,
            "margin": null,
            "max_height": null,
            "max_width": null,
            "min_height": null,
            "min_width": null,
            "object_fit": null,
            "object_position": null,
            "order": null,
            "overflow": null,
            "overflow_x": null,
            "overflow_y": null,
            "padding": null,
            "right": null,
            "top": null,
            "visibility": null,
            "width": null
          }
        },
        "93de0bb6108b4a07b2cca91aa13829cb": {
          "model_module": "@jupyter-widgets/base",
          "model_name": "LayoutModel",
          "model_module_version": "1.2.0",
          "state": {
            "_model_module": "@jupyter-widgets/base",
            "_model_module_version": "1.2.0",
            "_model_name": "LayoutModel",
            "_view_count": null,
            "_view_module": "@jupyter-widgets/base",
            "_view_module_version": "1.2.0",
            "_view_name": "LayoutView",
            "align_content": null,
            "align_items": null,
            "align_self": null,
            "border": null,
            "bottom": null,
            "display": null,
            "flex": null,
            "flex_flow": null,
            "grid_area": null,
            "grid_auto_columns": null,
            "grid_auto_flow": null,
            "grid_auto_rows": null,
            "grid_column": null,
            "grid_gap": null,
            "grid_row": null,
            "grid_template_areas": null,
            "grid_template_columns": null,
            "grid_template_rows": null,
            "height": null,
            "justify_content": null,
            "justify_items": null,
            "left": null,
            "margin": null,
            "max_height": null,
            "max_width": null,
            "min_height": null,
            "min_width": null,
            "object_fit": null,
            "object_position": null,
            "order": null,
            "overflow": null,
            "overflow_x": null,
            "overflow_y": null,
            "padding": null,
            "right": null,
            "top": null,
            "visibility": null,
            "width": null
          }
        },
        "87726fb4ff9a4620970208887de71519": {
          "model_module": "@jupyter-widgets/controls",
          "model_name": "DescriptionStyleModel",
          "model_module_version": "1.5.0",
          "state": {
            "_model_module": "@jupyter-widgets/controls",
            "_model_module_version": "1.5.0",
            "_model_name": "DescriptionStyleModel",
            "_view_count": null,
            "_view_module": "@jupyter-widgets/base",
            "_view_module_version": "1.2.0",
            "_view_name": "StyleView",
            "description_width": ""
          }
        },
        "574bb5bb86db498fa669906f6c0e8126": {
          "model_module": "@jupyter-widgets/base",
          "model_name": "LayoutModel",
          "model_module_version": "1.2.0",
          "state": {
            "_model_module": "@jupyter-widgets/base",
            "_model_module_version": "1.2.0",
            "_model_name": "LayoutModel",
            "_view_count": null,
            "_view_module": "@jupyter-widgets/base",
            "_view_module_version": "1.2.0",
            "_view_name": "LayoutView",
            "align_content": null,
            "align_items": null,
            "align_self": null,
            "border": null,
            "bottom": null,
            "display": null,
            "flex": null,
            "flex_flow": null,
            "grid_area": null,
            "grid_auto_columns": null,
            "grid_auto_flow": null,
            "grid_auto_rows": null,
            "grid_column": null,
            "grid_gap": null,
            "grid_row": null,
            "grid_template_areas": null,
            "grid_template_columns": null,
            "grid_template_rows": null,
            "height": null,
            "justify_content": null,
            "justify_items": null,
            "left": null,
            "margin": null,
            "max_height": null,
            "max_width": null,
            "min_height": null,
            "min_width": null,
            "object_fit": null,
            "object_position": null,
            "order": null,
            "overflow": null,
            "overflow_x": null,
            "overflow_y": null,
            "padding": null,
            "right": null,
            "top": null,
            "visibility": null,
            "width": null
          }
        },
        "895a7857c734474eb7cb84b8dbf6b17e": {
          "model_module": "@jupyter-widgets/controls",
          "model_name": "ProgressStyleModel",
          "model_module_version": "1.5.0",
          "state": {
            "_model_module": "@jupyter-widgets/controls",
            "_model_module_version": "1.5.0",
            "_model_name": "ProgressStyleModel",
            "_view_count": null,
            "_view_module": "@jupyter-widgets/base",
            "_view_module_version": "1.2.0",
            "_view_name": "StyleView",
            "bar_color": null,
            "description_width": ""
          }
        },
        "e867503b36014aa5ab37f755a135c4b0": {
          "model_module": "@jupyter-widgets/base",
          "model_name": "LayoutModel",
          "model_module_version": "1.2.0",
          "state": {
            "_model_module": "@jupyter-widgets/base",
            "_model_module_version": "1.2.0",
            "_model_name": "LayoutModel",
            "_view_count": null,
            "_view_module": "@jupyter-widgets/base",
            "_view_module_version": "1.2.0",
            "_view_name": "LayoutView",
            "align_content": null,
            "align_items": null,
            "align_self": null,
            "border": null,
            "bottom": null,
            "display": null,
            "flex": null,
            "flex_flow": null,
            "grid_area": null,
            "grid_auto_columns": null,
            "grid_auto_flow": null,
            "grid_auto_rows": null,
            "grid_column": null,
            "grid_gap": null,
            "grid_row": null,
            "grid_template_areas": null,
            "grid_template_columns": null,
            "grid_template_rows": null,
            "height": null,
            "justify_content": null,
            "justify_items": null,
            "left": null,
            "margin": null,
            "max_height": null,
            "max_width": null,
            "min_height": null,
            "min_width": null,
            "object_fit": null,
            "object_position": null,
            "order": null,
            "overflow": null,
            "overflow_x": null,
            "overflow_y": null,
            "padding": null,
            "right": null,
            "top": null,
            "visibility": null,
            "width": null
          }
        },
        "02e7ddfef0da4b57a4ca4c618f493f8f": {
          "model_module": "@jupyter-widgets/controls",
          "model_name": "DescriptionStyleModel",
          "model_module_version": "1.5.0",
          "state": {
            "_model_module": "@jupyter-widgets/controls",
            "_model_module_version": "1.5.0",
            "_model_name": "DescriptionStyleModel",
            "_view_count": null,
            "_view_module": "@jupyter-widgets/base",
            "_view_module_version": "1.2.0",
            "_view_name": "StyleView",
            "description_width": ""
          }
        }
      }
    },
    "accelerator": "GPU"
  },
  "nbformat": 4,
  "nbformat_minor": 0
}